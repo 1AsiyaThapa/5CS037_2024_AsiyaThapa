{
  "nbformat": 4,
  "nbformat_minor": 0,
  "metadata": {
    "colab": {
      "provenance": []
    },
    "kernelspec": {
      "name": "python3",
      "display_name": "Python 3"
    },
    "language_info": {
      "name": "python"
    }
  },
  "cells": [
    {
      "cell_type": "code",
      "execution_count": 80,
      "metadata": {
        "id": "HSKYmcfMyev6"
      },
      "outputs": [],
      "source": [
        "from sklearn.datasets import load_wine\n",
        "from sklearn.model_selection import train_test_split, GridSearchCV, RandomizedSearchCV\n",
        "from sklearn.preprocessing import StandardScaler\n",
        "from sklearn.tree import DecisionTreeClassifier, DecisionTreeRegressor\n",
        "from sklearn.ensemble import RandomForestClassifier, RandomForestRegressor\n",
        "from sklearn.metrics import accuracy_score, classification_report, f1_score, mean_squared_error"
      ]
    },
    {
      "cell_type": "code",
      "source": [
        "dataOfwine = load_wine(as_frame=True)\n",
        "wine_dataframe = dataOfwine.frame\n",
        "\n",
        "print(wine_dataframe.head())"
      ],
      "metadata": {
        "colab": {
          "base_uri": "https://localhost:8080/"
        },
        "id": "Pw_z1-Lc0tZk",
        "outputId": "729ae92f-3e83-483a-fdbe-5503da3acb04"
      },
      "execution_count": 101,
      "outputs": [
        {
          "output_type": "stream",
          "name": "stdout",
          "text": [
            "   alcohol  malic_acid   ash  alcalinity_of_ash  magnesium  total_phenols  \\\n",
            "0    14.23        1.71  2.43               15.6      127.0           2.80   \n",
            "1    13.20        1.78  2.14               11.2      100.0           2.65   \n",
            "2    13.16        2.36  2.67               18.6      101.0           2.80   \n",
            "3    14.37        1.95  2.50               16.8      113.0           3.85   \n",
            "4    13.24        2.59  2.87               21.0      118.0           2.80   \n",
            "\n",
            "   flavanoids  nonflavanoid_phenols  proanthocyanins  color_intensity   hue  \\\n",
            "0        3.06                  0.28             2.29             5.64  1.04   \n",
            "1        2.76                  0.26             1.28             4.38  1.05   \n",
            "2        3.24                  0.30             2.81             5.68  1.03   \n",
            "3        3.49                  0.24             2.18             7.80  0.86   \n",
            "4        2.69                  0.39             1.82             4.32  1.04   \n",
            "\n",
            "   od280/od315_of_diluted_wines  proline  target  \n",
            "0                          3.92   1065.0       0  \n",
            "1                          3.40   1050.0       0  \n",
            "2                          3.17   1185.0       0  \n",
            "3                          3.45   1480.0       0  \n",
            "4                          2.93    735.0       0  \n"
          ]
        }
      ]
    },
    {
      "cell_type": "code",
      "source": [
        "zero_count = (wine_dataframe.iloc[:, :-1] == 0).sum()\n",
        "print(zero_count)"
      ],
      "metadata": {
        "colab": {
          "base_uri": "https://localhost:8080/"
        },
        "id": "Ze0845Cc1MwX",
        "outputId": "82dd557a-2d62-45b8-aebc-bdbaf9b92598"
      },
      "execution_count": 82,
      "outputs": [
        {
          "output_type": "stream",
          "name": "stdout",
          "text": [
            "alcohol                         0\n",
            "malic_acid                      0\n",
            "ash                             0\n",
            "alcalinity_of_ash               0\n",
            "magnesium                       0\n",
            "total_phenols                   0\n",
            "flavanoids                      0\n",
            "nonflavanoid_phenols            0\n",
            "proanthocyanins                 0\n",
            "color_intensity                 0\n",
            "hue                             0\n",
            "od280/od315_of_diluted_wines    0\n",
            "proline                         0\n",
            "dtype: int64\n"
          ]
        }
      ]
    },
    {
      "cell_type": "code",
      "source": [
        "print(wine_dataframe.isnull().sum())"
      ],
      "metadata": {
        "colab": {
          "base_uri": "https://localhost:8080/"
        },
        "id": "WhYB4PyX1TiO",
        "outputId": "fc08d6ef-8901-4af6-d3c6-0ddc31319b43"
      },
      "execution_count": 102,
      "outputs": [
        {
          "output_type": "stream",
          "name": "stdout",
          "text": [
            "alcohol                         0\n",
            "malic_acid                      0\n",
            "ash                             0\n",
            "alcalinity_of_ash               0\n",
            "magnesium                       0\n",
            "total_phenols                   0\n",
            "flavanoids                      0\n",
            "nonflavanoid_phenols            0\n",
            "proanthocyanins                 0\n",
            "color_intensity                 0\n",
            "hue                             0\n",
            "od280/od315_of_diluted_wines    0\n",
            "proline                         0\n",
            "target                          0\n",
            "dtype: int64\n"
          ]
        }
      ]
    },
    {
      "cell_type": "code",
      "source": [
        "X = wine_dataframe.drop('target', axis=1)\n",
        "y = wine_dataframe['target']"
      ],
      "metadata": {
        "id": "GL2kjt3_1XR9"
      },
      "execution_count": 84,
      "outputs": []
    },
    {
      "cell_type": "code",
      "source": [
        "X_train, X_test, y_train, y_test = train_test_split(X, y, test_size=0.3, random_state=42)"
      ],
      "metadata": {
        "id": "BxtXiL4y1a-n"
      },
      "execution_count": 85,
      "outputs": []
    },
    {
      "cell_type": "code",
      "source": [
        "scaler = StandardScaler()\n",
        "X_train_scaled = scaler.fit_transform(X_train)\n",
        "X_test_scaled = scaler.transform(X_test)"
      ],
      "metadata": {
        "id": "E2njZWE51cIF"
      },
      "execution_count": 86,
      "outputs": []
    },
    {
      "cell_type": "code",
      "source": [
        "decisionTree= DecisionTreeClassifier(random_state=42)\n",
        "decisionTree.fit(X_train_scaled, y_train)\n",
        "y_pred = decisionTree.predict(X_test_scaled)"
      ],
      "metadata": {
        "id": "wrxaqNDV1iz3"
      },
      "execution_count": 87,
      "outputs": []
    },
    {
      "cell_type": "code",
      "source": [
        "print(\"Results of Decision Tree Classifier:\")\n",
        "accuracy = accuracy_score(y_test, y_pred)\n",
        "print(f\"Accuracy: {accuracy}\")\n",
        "print(\"Classification Report:\")\n",
        "print(classification_report(y_test, y_pred))"
      ],
      "metadata": {
        "colab": {
          "base_uri": "https://localhost:8080/"
        },
        "id": "iXtNGqz61lo5",
        "outputId": "d09c7d20-e3d3-47e3-b1aa-e24d072a5142"
      },
      "execution_count": 88,
      "outputs": [
        {
          "output_type": "stream",
          "name": "stdout",
          "text": [
            "Results of Decision Tree Classifier:\n",
            "Accuracy: 0.9629629629629629\n",
            "Classification Report:\n",
            "              precision    recall  f1-score   support\n",
            "\n",
            "           0       0.95      0.95      0.95        19\n",
            "           1       0.95      1.00      0.98        21\n",
            "           2       1.00      0.93      0.96        14\n",
            "\n",
            "    accuracy                           0.96        54\n",
            "   macro avg       0.97      0.96      0.96        54\n",
            "weighted avg       0.96      0.96      0.96        54\n",
            "\n"
          ]
        }
      ]
    },
    {
      "cell_type": "code",
      "source": [
        "rf = RandomForestClassifier(random_state=42)\n",
        "rf.fit(X_train_scaled, y_train)\n",
        "y_pred_rf = rf.predict(X_test_scaled)"
      ],
      "metadata": {
        "id": "DeJGTbjQ1o_X"
      },
      "execution_count": 89,
      "outputs": []
    },
    {
      "cell_type": "code",
      "source": [
        "print(\"Random Forest Tree Classifier Results:\")\n",
        "accuracy = accuracy_score(y_test, y_pred_rf)\n",
        "print(f\"Accuracy: {accuracy}\")\n",
        "print(\"Classification Report:\")\n",
        "print(classification_report(y_test, y_pred_rf))"
      ],
      "metadata": {
        "colab": {
          "base_uri": "https://localhost:8080/"
        },
        "id": "akepqYvh1s9f",
        "outputId": "0de14259-8fc8-48a3-dbfc-3646a6ee9f1b"
      },
      "execution_count": 90,
      "outputs": [
        {
          "output_type": "stream",
          "name": "stdout",
          "text": [
            "Random Forest Tree Classifier Results:\n",
            "Accuracy: 1.0\n",
            "Classification Report:\n",
            "              precision    recall  f1-score   support\n",
            "\n",
            "           0       1.00      1.00      1.00        19\n",
            "           1       1.00      1.00      1.00        21\n",
            "           2       1.00      1.00      1.00        14\n",
            "\n",
            "    accuracy                           1.00        54\n",
            "   macro avg       1.00      1.00      1.00        54\n",
            "weighted avg       1.00      1.00      1.00        54\n",
            "\n"
          ]
        }
      ]
    },
    {
      "cell_type": "code",
      "source": [
        "f1_dt = f1_score(y_test,y_pred,average=\"weighted\")\n",
        "f1_rf = f1_score(y_test,y_pred_rf,average=\"weighted\")\n",
        "print(\"Decision Tree F1 score: \", f1_dt)\n",
        "print(\"Random Forest Tree F1 score: \", f1_rf)\n"
      ],
      "metadata": {
        "colab": {
          "base_uri": "https://localhost:8080/"
        },
        "id": "GDTSKcQj1vyB",
        "outputId": "9ff3686d-703f-4a58-fd18-8e7fea170a00"
      },
      "execution_count": 91,
      "outputs": [
        {
          "output_type": "stream",
          "name": "stdout",
          "text": [
            "Decision Tree F1 score:  0.9628353590455226\n",
            "Random Forest Tree F1 score:  1.0\n"
          ]
        }
      ]
    },
    {
      "cell_type": "code",
      "source": [
        "param_grid = {\n",
        "    'n_estimators': [50, 100, 200],\n",
        "    'max_depth': [None, 10, 20, 30],\n",
        "    'min_samples_split': [2, 5, 10],\n",
        "}\n",
        "\n",
        "grid_search = GridSearchCV(estimator=rf, param_grid=param_grid, scoring='accuracy', cv=5, verbose=1, n_jobs=-1)\n",
        "grid_search.fit(X_train_scaled, y_train)\n",
        "\n",
        "\n",
        "print(\"Best Hyperparameters:\", grid_search.best_params_)"
      ],
      "metadata": {
        "colab": {
          "base_uri": "https://localhost:8080/"
        },
        "id": "zeLOZWuT1zdA",
        "outputId": "32e94b6a-1177-4856-db21-71f9264ff25b"
      },
      "execution_count": 92,
      "outputs": [
        {
          "output_type": "stream",
          "name": "stdout",
          "text": [
            "Fitting 5 folds for each of 36 candidates, totalling 180 fits\n",
            "Best Hyperparameters: {'max_depth': None, 'min_samples_split': 2, 'n_estimators': 50}\n"
          ]
        }
      ]
    },
    {
      "cell_type": "code",
      "source": [
        "X_dr = wine_dataframe.drop('alcohol', axis=1)\n",
        "y_dr = wine_dataframe['alcohol']"
      ],
      "metadata": {
        "id": "lGOf70mz12Qz"
      },
      "execution_count": 93,
      "outputs": []
    },
    {
      "cell_type": "code",
      "source": [
        "X_train_r, X_test_r, y_train_r, y_test_r = train_test_split(X_dr, y_dr, test_size=0.3, random_state=42)"
      ],
      "metadata": {
        "id": "ptUs2NoQ2yve"
      },
      "execution_count": 94,
      "outputs": []
    },
    {
      "cell_type": "code",
      "source": [
        "scaler = StandardScaler()\n",
        "X_train_scaled_r = scaler.fit_transform(X_train_r)\n",
        "X_test_scaled_r = scaler.transform(X_test_r)"
      ],
      "metadata": {
        "id": "WX8Y5sYz15Gs"
      },
      "execution_count": 95,
      "outputs": []
    },
    {
      "cell_type": "code",
      "source": [
        "dt_reg = DecisionTreeRegressor(random_state=42)\n",
        "dt_reg.fit(X_train_scaled_r, y_train_r)\n",
        "y_pred_dt = dt_reg.predict(X_test_scaled_r)"
      ],
      "metadata": {
        "id": "rrFhd3dp17yR"
      },
      "execution_count": 96,
      "outputs": []
    },
    {
      "cell_type": "code",
      "source": [
        "print(\"\\nDecision Tree Regressor Results:\")\n",
        "mse_r = mean_squared_error(y_test_r, y_pred_dt)\n",
        "print(f\"Mean Squared Error: {mse_r}\")"
      ],
      "metadata": {
        "colab": {
          "base_uri": "https://localhost:8080/"
        },
        "id": "nkHn-jN41-aC",
        "outputId": "d5440452-188b-4f9c-bbe7-55b15e4b631b"
      },
      "execution_count": 97,
      "outputs": [
        {
          "output_type": "stream",
          "name": "stdout",
          "text": [
            "\n",
            "Decision Tree Regressor Results:\n",
            "Mean Squared Error: 0.38300370370370396\n"
          ]
        }
      ]
    },
    {
      "cell_type": "code",
      "source": [
        "rf_reg = RandomForestRegressor(random_state=42)\n",
        "rf_reg.fit(X_train_scaled_r, y_train_r)\n",
        "y_pred_rf = rf_reg.predict(X_test_scaled_r)"
      ],
      "metadata": {
        "id": "siV14BQH2D_m"
      },
      "execution_count": 98,
      "outputs": []
    },
    {
      "cell_type": "code",
      "source": [
        "print(\"\\nRandom Forest Regressor Results:\")\n",
        "mse_rf = mean_squared_error(y_test_r, y_pred_rf)\n",
        "print(f\"Mean Squared Error: {mse_rf}\")"
      ],
      "metadata": {
        "colab": {
          "base_uri": "https://localhost:8080/"
        },
        "id": "BKsUEz1C2II3",
        "outputId": "b79dc518-ed05-4d70-d57b-3760e2a7dce8"
      },
      "execution_count": 99,
      "outputs": [
        {
          "output_type": "stream",
          "name": "stdout",
          "text": [
            "\n",
            "Random Forest Regressor Results:\n",
            "Mean Squared Error: 0.17294733555555533\n"
          ]
        }
      ]
    },
    {
      "cell_type": "code",
      "source": [
        "param_grid = {\n",
        "    'n_estimators': [50, 100, 200],\n",
        "    'max_depth': [None, 10, 20, 30],\n",
        "    'min_samples_split': [2, 5, 10],\n",
        "}\n",
        "\n",
        "random_search  = RandomizedSearchCV(estimator=rf_reg, param_distributions=param_grid, scoring='neg_mean_squared_error', cv=5, verbose=1, n_jobs=-1)\n",
        "random_search.fit(X_train_scaled_r, y_train_r)\n",
        "\n",
        "\n",
        "print(\"Best Hyperparameters:\", random_search.best_params_)"
      ],
      "metadata": {
        "colab": {
          "base_uri": "https://localhost:8080/"
        },
        "id": "Q222v5ks2KiG",
        "outputId": "ec5ad195-ac01-4e7e-9404-c669c8ade8f3"
      },
      "execution_count": 100,
      "outputs": [
        {
          "output_type": "stream",
          "name": "stdout",
          "text": [
            "Fitting 5 folds for each of 10 candidates, totalling 50 fits\n",
            "Best Hyperparameters: {'n_estimators': 50, 'min_samples_split': 10, 'max_depth': 20}\n"
          ]
        }
      ]
    }
  ]
}