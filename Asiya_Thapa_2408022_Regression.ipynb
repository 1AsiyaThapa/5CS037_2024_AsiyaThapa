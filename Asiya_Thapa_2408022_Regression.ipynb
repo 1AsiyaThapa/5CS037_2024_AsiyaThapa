{
  "cells": [
    {
      "cell_type": "code",
      "execution_count": null,
      "metadata": {
        "id": "tM3mpbpDJaDt"
      },
      "outputs": [],
      "source": [
        "import numpy as np\n",
        "import pandas as pd\n",
        "import matplotlib.pyplot as plt\n",
        "import seaborn as sns\n",
        "from sklearn.preprocessing import LabelEncoder,StandardScaler\n",
        "from sklearn.model_selection import train_test_split,RandomizedSearchCV\n",
        "from sklearn.metrics import r2_score,mean_absolute_error,mean_squared_error\n",
        "from sklearn.ensemble import RandomForestRegressor\n",
        "from sklearn.svm import SVR\n",
        "from sklearn.tree import DecisionTreeClassifier\n",
        "from sklearn.neighbors import KNeighborsClassifier\n",
        "\n",
        "import warnings\n",
        "warnings.filterwarnings('ignore')"
      ]
    },
    {
      "cell_type": "code",
      "execution_count": null,
      "metadata": {
        "colab": {
          "base_uri": "https://localhost:8080/",
          "height": 330
        },
        "id": "_TopC1I_KxNN",
        "outputId": "44b02132-4119-4d52-e11f-fa4314b9c37b"
      },
      "outputs": [
        {
          "data": {
            "application/vnd.google.colaboratory.intrinsic+json": {
              "summary": "{\n  \"name\": \"df\",\n  \"rows\": 50000,\n  \"fields\": [\n    {\n      \"column\": \"Age\",\n      \"properties\": {\n        \"dtype\": \"number\",\n        \"std\": 20,\n        \"min\": 18,\n        \"max\": 89,\n        \"num_unique_values\": 72,\n        \"samples\": [\n          38,\n          85,\n          59\n        ],\n        \"semantic_type\": \"\",\n        \"description\": \"\"\n      }\n    },\n    {\n      \"column\": \"Gender\",\n      \"properties\": {\n        \"dtype\": \"category\",\n        \"num_unique_values\": 2,\n        \"samples\": [\n          \"Male\",\n          \"Female\"\n        ],\n        \"semantic_type\": \"\",\n        \"description\": \"\"\n      }\n    },\n    {\n      \"column\": \"Smoking\",\n      \"properties\": {\n        \"dtype\": \"number\",\n        \"std\": 0,\n        \"min\": 0,\n        \"max\": 1,\n        \"num_unique_values\": 2,\n        \"samples\": [\n          0,\n          1\n        ],\n        \"semantic_type\": \"\",\n        \"description\": \"\"\n      }\n    },\n    {\n      \"column\": \"Alcohol_Consumption\",\n      \"properties\": {\n        \"dtype\": \"number\",\n        \"std\": 0,\n        \"min\": 0,\n        \"max\": 1,\n        \"num_unique_values\": 2,\n        \"samples\": [\n          1,\n          0\n        ],\n        \"semantic_type\": \"\",\n        \"description\": \"\"\n      }\n    },\n    {\n      \"column\": \"Physical_Activity_Level\",\n      \"properties\": {\n        \"dtype\": \"category\",\n        \"num_unique_values\": 3,\n        \"samples\": [\n          \"Moderate\",\n          \"Low\"\n        ],\n        \"semantic_type\": \"\",\n        \"description\": \"\"\n      }\n    },\n    {\n      \"column\": \"BMI\",\n      \"properties\": {\n        \"dtype\": \"number\",\n        \"std\": 7.2251756027142955,\n        \"min\": 15.0,\n        \"max\": 40.0,\n        \"num_unique_values\": 2501,\n        \"samples\": [\n          16.16,\n          39.52\n        ],\n        \"semantic_type\": \"\",\n        \"description\": \"\"\n      }\n    },\n    {\n      \"column\": \"Diabetes\",\n      \"properties\": {\n        \"dtype\": \"number\",\n        \"std\": 0,\n        \"min\": 0,\n        \"max\": 1,\n        \"num_unique_values\": 2,\n        \"samples\": [\n          0,\n          1\n        ],\n        \"semantic_type\": \"\",\n        \"description\": \"\"\n      }\n    },\n    {\n      \"column\": \"Hypertension\",\n      \"properties\": {\n        \"dtype\": \"number\",\n        \"std\": 0,\n        \"min\": 0,\n        \"max\": 1,\n        \"num_unique_values\": 2,\n        \"samples\": [\n          1,\n          0\n        ],\n        \"semantic_type\": \"\",\n        \"description\": \"\"\n      }\n    },\n    {\n      \"column\": \"Cholesterol_Level\",\n      \"properties\": {\n        \"dtype\": \"number\",\n        \"std\": 43.317373107462714,\n        \"min\": 150.0,\n        \"max\": 300.0,\n        \"num_unique_values\": 1501,\n        \"samples\": [\n          245.8,\n          156.6\n        ],\n        \"semantic_type\": \"\",\n        \"description\": \"\"\n      }\n    },\n    {\n      \"column\": \"Resting_BP\",\n      \"properties\": {\n        \"dtype\": \"number\",\n        \"std\": 25,\n        \"min\": 90,\n        \"max\": 179,\n        \"num_unique_values\": 90,\n        \"samples\": [\n          96,\n          132\n        ],\n        \"semantic_type\": \"\",\n        \"description\": \"\"\n      }\n    },\n    {\n      \"column\": \"Heart_Rate\",\n      \"properties\": {\n        \"dtype\": \"number\",\n        \"std\": 20,\n        \"min\": 60,\n        \"max\": 129,\n        \"num_unique_values\": 70,\n        \"samples\": [\n          84,\n          85\n        ],\n        \"semantic_type\": \"\",\n        \"description\": \"\"\n      }\n    },\n    {\n      \"column\": \"Family_History\",\n      \"properties\": {\n        \"dtype\": \"number\",\n        \"std\": 0,\n        \"min\": 0,\n        \"max\": 1,\n        \"num_unique_values\": 2,\n        \"samples\": [\n          1,\n          0\n        ],\n        \"semantic_type\": \"\",\n        \"description\": \"\"\n      }\n    },\n    {\n      \"column\": \"Stress_Level\",\n      \"properties\": {\n        \"dtype\": \"category\",\n        \"num_unique_values\": 3,\n        \"samples\": [\n          \"Moderate\",\n          \"Low\"\n        ],\n        \"semantic_type\": \"\",\n        \"description\": \"\"\n      }\n    },\n    {\n      \"column\": \"Chest_Pain_Type\",\n      \"properties\": {\n        \"dtype\": \"category\",\n        \"num_unique_values\": 4,\n        \"samples\": [\n          \"Asymptomatic\",\n          \"Atypical\"\n        ],\n        \"semantic_type\": \"\",\n        \"description\": \"\"\n      }\n    },\n    {\n      \"column\": \"Thalassemia\",\n      \"properties\": {\n        \"dtype\": \"category\",\n        \"num_unique_values\": 3,\n        \"samples\": [\n          \"Reversible defect\",\n          \"Normal\"\n        ],\n        \"semantic_type\": \"\",\n        \"description\": \"\"\n      }\n    },\n    {\n      \"column\": \"Fasting_Blood_Sugar\",\n      \"properties\": {\n        \"dtype\": \"number\",\n        \"std\": 0,\n        \"min\": 0,\n        \"max\": 1,\n        \"num_unique_values\": 2,\n        \"samples\": [\n          1,\n          0\n        ],\n        \"semantic_type\": \"\",\n        \"description\": \"\"\n      }\n    },\n    {\n      \"column\": \"ECG_Results\",\n      \"properties\": {\n        \"dtype\": \"category\",\n        \"num_unique_values\": 3,\n        \"samples\": [\n          \"Normal\",\n          \"ST-T abnormality\"\n        ],\n        \"semantic_type\": \"\",\n        \"description\": \"\"\n      }\n    },\n    {\n      \"column\": \"Exercise_Induced_Angina\",\n      \"properties\": {\n        \"dtype\": \"number\",\n        \"std\": 0,\n        \"min\": 0,\n        \"max\": 1,\n        \"num_unique_values\": 2,\n        \"samples\": [\n          1,\n          0\n        ],\n        \"semantic_type\": \"\",\n        \"description\": \"\"\n      }\n    },\n    {\n      \"column\": \"Max_Heart_Rate_Achieved\",\n      \"properties\": {\n        \"dtype\": \"number\",\n        \"std\": 28,\n        \"min\": 100,\n        \"max\": 199,\n        \"num_unique_values\": 100,\n        \"samples\": [\n          197,\n          138\n        ],\n        \"semantic_type\": \"\",\n        \"description\": \"\"\n      }\n    },\n    {\n      \"column\": \"Heart_Attack_Risk\",\n      \"properties\": {\n        \"dtype\": \"category\",\n        \"num_unique_values\": 3,\n        \"samples\": [\n          \"Low\",\n          \"Moderate\"\n        ],\n        \"semantic_type\": \"\",\n        \"description\": \"\"\n      }\n    }\n  ]\n}",
              "type": "dataframe",
              "variable_name": "df"
            },
            "text/html": [
              "\n",
              "  <div id=\"df-657e0acb-89bc-4bba-babf-1bf0473fba6e\" class=\"colab-df-container\">\n",
              "    <div>\n",
              "<style scoped>\n",
              "    .dataframe tbody tr th:only-of-type {\n",
              "        vertical-align: middle;\n",
              "    }\n",
              "\n",
              "    .dataframe tbody tr th {\n",
              "        vertical-align: top;\n",
              "    }\n",
              "\n",
              "    .dataframe thead th {\n",
              "        text-align: right;\n",
              "    }\n",
              "</style>\n",
              "<table border=\"1\" class=\"dataframe\">\n",
              "  <thead>\n",
              "    <tr style=\"text-align: right;\">\n",
              "      <th></th>\n",
              "      <th>Age</th>\n",
              "      <th>Gender</th>\n",
              "      <th>Smoking</th>\n",
              "      <th>Alcohol_Consumption</th>\n",
              "      <th>Physical_Activity_Level</th>\n",
              "      <th>BMI</th>\n",
              "      <th>Diabetes</th>\n",
              "      <th>Hypertension</th>\n",
              "      <th>Cholesterol_Level</th>\n",
              "      <th>Resting_BP</th>\n",
              "      <th>Heart_Rate</th>\n",
              "      <th>Family_History</th>\n",
              "      <th>Stress_Level</th>\n",
              "      <th>Chest_Pain_Type</th>\n",
              "      <th>Thalassemia</th>\n",
              "      <th>Fasting_Blood_Sugar</th>\n",
              "      <th>ECG_Results</th>\n",
              "      <th>Exercise_Induced_Angina</th>\n",
              "      <th>Max_Heart_Rate_Achieved</th>\n",
              "      <th>Heart_Attack_Risk</th>\n",
              "    </tr>\n",
              "  </thead>\n",
              "  <tbody>\n",
              "    <tr>\n",
              "      <th>0</th>\n",
              "      <td>69</td>\n",
              "      <td>Female</td>\n",
              "      <td>1</td>\n",
              "      <td>0</td>\n",
              "      <td>Moderate</td>\n",
              "      <td>34.61</td>\n",
              "      <td>1</td>\n",
              "      <td>0</td>\n",
              "      <td>152.1</td>\n",
              "      <td>171</td>\n",
              "      <td>85</td>\n",
              "      <td>0</td>\n",
              "      <td>Moderate</td>\n",
              "      <td>Non-anginal</td>\n",
              "      <td>Reversible defect</td>\n",
              "      <td>0</td>\n",
              "      <td>Normal</td>\n",
              "      <td>0</td>\n",
              "      <td>114</td>\n",
              "      <td>Low</td>\n",
              "    </tr>\n",
              "    <tr>\n",
              "      <th>1</th>\n",
              "      <td>32</td>\n",
              "      <td>Male</td>\n",
              "      <td>0</td>\n",
              "      <td>0</td>\n",
              "      <td>Moderate</td>\n",
              "      <td>22.75</td>\n",
              "      <td>0</td>\n",
              "      <td>0</td>\n",
              "      <td>166.8</td>\n",
              "      <td>126</td>\n",
              "      <td>103</td>\n",
              "      <td>0</td>\n",
              "      <td>Low</td>\n",
              "      <td>Asymptomatic</td>\n",
              "      <td>Normal</td>\n",
              "      <td>0</td>\n",
              "      <td>ST-T abnormality</td>\n",
              "      <td>0</td>\n",
              "      <td>173</td>\n",
              "      <td>Moderate</td>\n",
              "    </tr>\n",
              "    <tr>\n",
              "      <th>2</th>\n",
              "      <td>89</td>\n",
              "      <td>Male</td>\n",
              "      <td>0</td>\n",
              "      <td>1</td>\n",
              "      <td>Moderate</td>\n",
              "      <td>35.32</td>\n",
              "      <td>0</td>\n",
              "      <td>0</td>\n",
              "      <td>272.3</td>\n",
              "      <td>123</td>\n",
              "      <td>127</td>\n",
              "      <td>0</td>\n",
              "      <td>Low</td>\n",
              "      <td>Typical</td>\n",
              "      <td>Reversible defect</td>\n",
              "      <td>0</td>\n",
              "      <td>ST-T abnormality</td>\n",
              "      <td>0</td>\n",
              "      <td>109</td>\n",
              "      <td>Low</td>\n",
              "    </tr>\n",
              "    <tr>\n",
              "      <th>3</th>\n",
              "      <td>78</td>\n",
              "      <td>Male</td>\n",
              "      <td>0</td>\n",
              "      <td>1</td>\n",
              "      <td>Moderate</td>\n",
              "      <td>18.23</td>\n",
              "      <td>1</td>\n",
              "      <td>0</td>\n",
              "      <td>237.7</td>\n",
              "      <td>144</td>\n",
              "      <td>125</td>\n",
              "      <td>0</td>\n",
              "      <td>Low</td>\n",
              "      <td>Typical</td>\n",
              "      <td>Fixed defect</td>\n",
              "      <td>1</td>\n",
              "      <td>Left Ventricular Hypertrophy</td>\n",
              "      <td>0</td>\n",
              "      <td>129</td>\n",
              "      <td>Low</td>\n",
              "    </tr>\n",
              "    <tr>\n",
              "      <th>4</th>\n",
              "      <td>38</td>\n",
              "      <td>Female</td>\n",
              "      <td>1</td>\n",
              "      <td>0</td>\n",
              "      <td>Moderate</td>\n",
              "      <td>19.82</td>\n",
              "      <td>0</td>\n",
              "      <td>0</td>\n",
              "      <td>207.7</td>\n",
              "      <td>123</td>\n",
              "      <td>107</td>\n",
              "      <td>0</td>\n",
              "      <td>High</td>\n",
              "      <td>Asymptomatic</td>\n",
              "      <td>Reversible defect</td>\n",
              "      <td>0</td>\n",
              "      <td>ST-T abnormality</td>\n",
              "      <td>0</td>\n",
              "      <td>124</td>\n",
              "      <td>Moderate</td>\n",
              "    </tr>\n",
              "  </tbody>\n",
              "</table>\n",
              "</div>\n",
              "    <div class=\"colab-df-buttons\">\n",
              "\n",
              "  <div class=\"colab-df-container\">\n",
              "    <button class=\"colab-df-convert\" onclick=\"convertToInteractive('df-657e0acb-89bc-4bba-babf-1bf0473fba6e')\"\n",
              "            title=\"Convert this dataframe to an interactive table.\"\n",
              "            style=\"display:none;\">\n",
              "\n",
              "  <svg xmlns=\"http://www.w3.org/2000/svg\" height=\"24px\" viewBox=\"0 -960 960 960\">\n",
              "    <path d=\"M120-120v-720h720v720H120Zm60-500h600v-160H180v160Zm220 220h160v-160H400v160Zm0 220h160v-160H400v160ZM180-400h160v-160H180v160Zm440 0h160v-160H620v160ZM180-180h160v-160H180v160Zm440 0h160v-160H620v160Z\"/>\n",
              "  </svg>\n",
              "    </button>\n",
              "\n",
              "  <style>\n",
              "    .colab-df-container {\n",
              "      display:flex;\n",
              "      gap: 12px;\n",
              "    }\n",
              "\n",
              "    .colab-df-convert {\n",
              "      background-color: #E8F0FE;\n",
              "      border: none;\n",
              "      border-radius: 50%;\n",
              "      cursor: pointer;\n",
              "      display: none;\n",
              "      fill: #1967D2;\n",
              "      height: 32px;\n",
              "      padding: 0 0 0 0;\n",
              "      width: 32px;\n",
              "    }\n",
              "\n",
              "    .colab-df-convert:hover {\n",
              "      background-color: #E2EBFA;\n",
              "      box-shadow: 0px 1px 2px rgba(60, 64, 67, 0.3), 0px 1px 3px 1px rgba(60, 64, 67, 0.15);\n",
              "      fill: #174EA6;\n",
              "    }\n",
              "\n",
              "    .colab-df-buttons div {\n",
              "      margin-bottom: 4px;\n",
              "    }\n",
              "\n",
              "    [theme=dark] .colab-df-convert {\n",
              "      background-color: #3B4455;\n",
              "      fill: #D2E3FC;\n",
              "    }\n",
              "\n",
              "    [theme=dark] .colab-df-convert:hover {\n",
              "      background-color: #434B5C;\n",
              "      box-shadow: 0px 1px 3px 1px rgba(0, 0, 0, 0.15);\n",
              "      filter: drop-shadow(0px 1px 2px rgba(0, 0, 0, 0.3));\n",
              "      fill: #FFFFFF;\n",
              "    }\n",
              "  </style>\n",
              "\n",
              "    <script>\n",
              "      const buttonEl =\n",
              "        document.querySelector('#df-657e0acb-89bc-4bba-babf-1bf0473fba6e button.colab-df-convert');\n",
              "      buttonEl.style.display =\n",
              "        google.colab.kernel.accessAllowed ? 'block' : 'none';\n",
              "\n",
              "      async function convertToInteractive(key) {\n",
              "        const element = document.querySelector('#df-657e0acb-89bc-4bba-babf-1bf0473fba6e');\n",
              "        const dataTable =\n",
              "          await google.colab.kernel.invokeFunction('convertToInteractive',\n",
              "                                                    [key], {});\n",
              "        if (!dataTable) return;\n",
              "\n",
              "        const docLinkHtml = 'Like what you see? Visit the ' +\n",
              "          '<a target=\"_blank\" href=https://colab.research.google.com/notebooks/data_table.ipynb>data table notebook</a>'\n",
              "          + ' to learn more about interactive tables.';\n",
              "        element.innerHTML = '';\n",
              "        dataTable['output_type'] = 'display_data';\n",
              "        await google.colab.output.renderOutput(dataTable, element);\n",
              "        const docLink = document.createElement('div');\n",
              "        docLink.innerHTML = docLinkHtml;\n",
              "        element.appendChild(docLink);\n",
              "      }\n",
              "    </script>\n",
              "  </div>\n",
              "\n",
              "\n",
              "<div id=\"df-bb455d7c-b23e-4427-8734-560f8ea56316\">\n",
              "  <button class=\"colab-df-quickchart\" onclick=\"quickchart('df-bb455d7c-b23e-4427-8734-560f8ea56316')\"\n",
              "            title=\"Suggest charts\"\n",
              "            style=\"display:none;\">\n",
              "\n",
              "<svg xmlns=\"http://www.w3.org/2000/svg\" height=\"24px\"viewBox=\"0 0 24 24\"\n",
              "     width=\"24px\">\n",
              "    <g>\n",
              "        <path d=\"M19 3H5c-1.1 0-2 .9-2 2v14c0 1.1.9 2 2 2h14c1.1 0 2-.9 2-2V5c0-1.1-.9-2-2-2zM9 17H7v-7h2v7zm4 0h-2V7h2v10zm4 0h-2v-4h2v4z\"/>\n",
              "    </g>\n",
              "</svg>\n",
              "  </button>\n",
              "\n",
              "<style>\n",
              "  .colab-df-quickchart {\n",
              "      --bg-color: #E8F0FE;\n",
              "      --fill-color: #1967D2;\n",
              "      --hover-bg-color: #E2EBFA;\n",
              "      --hover-fill-color: #174EA6;\n",
              "      --disabled-fill-color: #AAA;\n",
              "      --disabled-bg-color: #DDD;\n",
              "  }\n",
              "\n",
              "  [theme=dark] .colab-df-quickchart {\n",
              "      --bg-color: #3B4455;\n",
              "      --fill-color: #D2E3FC;\n",
              "      --hover-bg-color: #434B5C;\n",
              "      --hover-fill-color: #FFFFFF;\n",
              "      --disabled-bg-color: #3B4455;\n",
              "      --disabled-fill-color: #666;\n",
              "  }\n",
              "\n",
              "  .colab-df-quickchart {\n",
              "    background-color: var(--bg-color);\n",
              "    border: none;\n",
              "    border-radius: 50%;\n",
              "    cursor: pointer;\n",
              "    display: none;\n",
              "    fill: var(--fill-color);\n",
              "    height: 32px;\n",
              "    padding: 0;\n",
              "    width: 32px;\n",
              "  }\n",
              "\n",
              "  .colab-df-quickchart:hover {\n",
              "    background-color: var(--hover-bg-color);\n",
              "    box-shadow: 0 1px 2px rgba(60, 64, 67, 0.3), 0 1px 3px 1px rgba(60, 64, 67, 0.15);\n",
              "    fill: var(--button-hover-fill-color);\n",
              "  }\n",
              "\n",
              "  .colab-df-quickchart-complete:disabled,\n",
              "  .colab-df-quickchart-complete:disabled:hover {\n",
              "    background-color: var(--disabled-bg-color);\n",
              "    fill: var(--disabled-fill-color);\n",
              "    box-shadow: none;\n",
              "  }\n",
              "\n",
              "  .colab-df-spinner {\n",
              "    border: 2px solid var(--fill-color);\n",
              "    border-color: transparent;\n",
              "    border-bottom-color: var(--fill-color);\n",
              "    animation:\n",
              "      spin 1s steps(1) infinite;\n",
              "  }\n",
              "\n",
              "  @keyframes spin {\n",
              "    0% {\n",
              "      border-color: transparent;\n",
              "      border-bottom-color: var(--fill-color);\n",
              "      border-left-color: var(--fill-color);\n",
              "    }\n",
              "    20% {\n",
              "      border-color: transparent;\n",
              "      border-left-color: var(--fill-color);\n",
              "      border-top-color: var(--fill-color);\n",
              "    }\n",
              "    30% {\n",
              "      border-color: transparent;\n",
              "      border-left-color: var(--fill-color);\n",
              "      border-top-color: var(--fill-color);\n",
              "      border-right-color: var(--fill-color);\n",
              "    }\n",
              "    40% {\n",
              "      border-color: transparent;\n",
              "      border-right-color: var(--fill-color);\n",
              "      border-top-color: var(--fill-color);\n",
              "    }\n",
              "    60% {\n",
              "      border-color: transparent;\n",
              "      border-right-color: var(--fill-color);\n",
              "    }\n",
              "    80% {\n",
              "      border-color: transparent;\n",
              "      border-right-color: var(--fill-color);\n",
              "      border-bottom-color: var(--fill-color);\n",
              "    }\n",
              "    90% {\n",
              "      border-color: transparent;\n",
              "      border-bottom-color: var(--fill-color);\n",
              "    }\n",
              "  }\n",
              "</style>\n",
              "\n",
              "  <script>\n",
              "    async function quickchart(key) {\n",
              "      const quickchartButtonEl =\n",
              "        document.querySelector('#' + key + ' button');\n",
              "      quickchartButtonEl.disabled = true;  // To prevent multiple clicks.\n",
              "      quickchartButtonEl.classList.add('colab-df-spinner');\n",
              "      try {\n",
              "        const charts = await google.colab.kernel.invokeFunction(\n",
              "            'suggestCharts', [key], {});\n",
              "      } catch (error) {\n",
              "        console.error('Error during call to suggestCharts:', error);\n",
              "      }\n",
              "      quickchartButtonEl.classList.remove('colab-df-spinner');\n",
              "      quickchartButtonEl.classList.add('colab-df-quickchart-complete');\n",
              "    }\n",
              "    (() => {\n",
              "      let quickchartButtonEl =\n",
              "        document.querySelector('#df-bb455d7c-b23e-4427-8734-560f8ea56316 button');\n",
              "      quickchartButtonEl.style.display =\n",
              "        google.colab.kernel.accessAllowed ? 'block' : 'none';\n",
              "    })();\n",
              "  </script>\n",
              "</div>\n",
              "\n",
              "    </div>\n",
              "  </div>\n"
            ],
            "text/plain": [
              "   Age  Gender  Smoking  Alcohol_Consumption Physical_Activity_Level    BMI  \\\n",
              "0   69  Female        1                    0                Moderate  34.61   \n",
              "1   32    Male        0                    0                Moderate  22.75   \n",
              "2   89    Male        0                    1                Moderate  35.32   \n",
              "3   78    Male        0                    1                Moderate  18.23   \n",
              "4   38  Female        1                    0                Moderate  19.82   \n",
              "\n",
              "   Diabetes  Hypertension  Cholesterol_Level  Resting_BP  Heart_Rate  \\\n",
              "0         1             0              152.1         171          85   \n",
              "1         0             0              166.8         126         103   \n",
              "2         0             0              272.3         123         127   \n",
              "3         1             0              237.7         144         125   \n",
              "4         0             0              207.7         123         107   \n",
              "\n",
              "   Family_History Stress_Level Chest_Pain_Type        Thalassemia  \\\n",
              "0               0     Moderate     Non-anginal  Reversible defect   \n",
              "1               0          Low    Asymptomatic             Normal   \n",
              "2               0          Low         Typical  Reversible defect   \n",
              "3               0          Low         Typical       Fixed defect   \n",
              "4               0         High    Asymptomatic  Reversible defect   \n",
              "\n",
              "   Fasting_Blood_Sugar                   ECG_Results  Exercise_Induced_Angina  \\\n",
              "0                    0                        Normal                        0   \n",
              "1                    0              ST-T abnormality                        0   \n",
              "2                    0              ST-T abnormality                        0   \n",
              "3                    1  Left Ventricular Hypertrophy                        0   \n",
              "4                    0              ST-T abnormality                        0   \n",
              "\n",
              "   Max_Heart_Rate_Achieved Heart_Attack_Risk  \n",
              "0                      114               Low  \n",
              "1                      173          Moderate  \n",
              "2                      109               Low  \n",
              "3                      129               Low  \n",
              "4                      124          Moderate  "
            ]
          },
          "execution_count": 57,
          "metadata": {},
          "output_type": "execute_result"
        }
      ],
      "source": [
        "df=pd.read_csv('/content/drive/MyDrive/ConceptofAIandTechnology/Assignment2/heart_attack_risk_dataset.csv')\n",
        "df.head()"
      ]
    },
    {
      "cell_type": "code",
      "execution_count": null,
      "metadata": {
        "colab": {
          "base_uri": "https://localhost:8080/"
        },
        "id": "Mpgwfc45hMv8",
        "outputId": "de1f33cf-8a52-4d71-eef5-5b5ac3d09bed"
      },
      "outputs": [
        {
          "data": {
            "text/plain": [
              "(50000, 20)"
            ]
          },
          "execution_count": 58,
          "metadata": {},
          "output_type": "execute_result"
        }
      ],
      "source": [
        "df.shape"
      ]
    },
    {
      "cell_type": "code",
      "execution_count": null,
      "metadata": {
        "colab": {
          "base_uri": "https://localhost:8080/"
        },
        "id": "CWoHHlTILBia",
        "outputId": "0fd08482-7e5a-469c-ccd6-76f3a0babb93"
      },
      "outputs": [
        {
          "name": "stdout",
          "output_type": "stream",
          "text": [
            "<class 'pandas.core.frame.DataFrame'>\n",
            "RangeIndex: 50000 entries, 0 to 49999\n",
            "Data columns (total 20 columns):\n",
            " #   Column                   Non-Null Count  Dtype  \n",
            "---  ------                   --------------  -----  \n",
            " 0   Age                      50000 non-null  int64  \n",
            " 1   Gender                   50000 non-null  object \n",
            " 2   Smoking                  50000 non-null  int64  \n",
            " 3   Alcohol_Consumption      50000 non-null  int64  \n",
            " 4   Physical_Activity_Level  50000 non-null  object \n",
            " 5   BMI                      50000 non-null  float64\n",
            " 6   Diabetes                 50000 non-null  int64  \n",
            " 7   Hypertension             50000 non-null  int64  \n",
            " 8   Cholesterol_Level        50000 non-null  float64\n",
            " 9   Resting_BP               50000 non-null  int64  \n",
            " 10  Heart_Rate               50000 non-null  int64  \n",
            " 11  Family_History           50000 non-null  int64  \n",
            " 12  Stress_Level             50000 non-null  object \n",
            " 13  Chest_Pain_Type          50000 non-null  object \n",
            " 14  Thalassemia              50000 non-null  object \n",
            " 15  Fasting_Blood_Sugar      50000 non-null  int64  \n",
            " 16  ECG_Results              50000 non-null  object \n",
            " 17  Exercise_Induced_Angina  50000 non-null  int64  \n",
            " 18  Max_Heart_Rate_Achieved  50000 non-null  int64  \n",
            " 19  Heart_Attack_Risk        50000 non-null  object \n",
            "dtypes: float64(2), int64(11), object(7)\n",
            "memory usage: 7.6+ MB\n"
          ]
        }
      ],
      "source": [
        "df.info()"
      ]
    },
    {
      "cell_type": "code",
      "execution_count": null,
      "metadata": {
        "colab": {
          "base_uri": "https://localhost:8080/",
          "height": 320
        },
        "id": "AkPwA8DwLIYW",
        "outputId": "604a1498-e906-4430-c722-50c46210cd73"
      },
      "outputs": [
        {
          "data": {
            "application/vnd.google.colaboratory.intrinsic+json": {
              "summary": "{\n  \"name\": \"df\",\n  \"rows\": 8,\n  \"fields\": [\n    {\n      \"column\": \"Age\",\n      \"properties\": {\n        \"dtype\": \"number\",\n        \"std\": 17660.503414111783,\n        \"min\": 18.0,\n        \"max\": 50000.0,\n        \"num_unique_values\": 8,\n        \"samples\": [\n          53.3987,\n          53.0,\n          50000.0\n        ],\n        \"semantic_type\": \"\",\n        \"description\": \"\"\n      }\n    },\n    {\n      \"column\": \"Smoking\",\n      \"properties\": {\n        \"dtype\": \"number\",\n        \"std\": 17677.530336084743,\n        \"min\": 0.0,\n        \"max\": 50000.0,\n        \"num_unique_values\": 5,\n        \"samples\": [\n          0.29842,\n          1.0,\n          0.4575693291666643\n        ],\n        \"semantic_type\": \"\",\n        \"description\": \"\"\n      }\n    },\n    {\n      \"column\": \"Alcohol_Consumption\",\n      \"properties\": {\n        \"dtype\": \"number\",\n        \"std\": 17677.52345219634,\n        \"min\": 0.0,\n        \"max\": 50000.0,\n        \"num_unique_values\": 5,\n        \"samples\": [\n          0.40198,\n          1.0,\n          0.49030285287550196\n        ],\n        \"semantic_type\": \"\",\n        \"description\": \"\"\n      }\n    },\n    {\n      \"column\": \"BMI\",\n      \"properties\": {\n        \"dtype\": \"number\",\n        \"std\": 17668.96883225938,\n        \"min\": 7.2251756027142955,\n        \"max\": 50000.0,\n        \"num_unique_values\": 8,\n        \"samples\": [\n          27.519357199999998,\n          27.54,\n          50000.0\n        ],\n        \"semantic_type\": \"\",\n        \"description\": \"\"\n      }\n    },\n    {\n      \"column\": \"Diabetes\",\n      \"properties\": {\n        \"dtype\": \"number\",\n        \"std\": 17677.588823292153,\n        \"min\": 0.0,\n        \"max\": 50000.0,\n        \"num_unique_values\": 5,\n        \"samples\": [\n          0.19884,\n          1.0,\n          0.39913135747138934\n        ],\n        \"semantic_type\": \"\",\n        \"description\": \"\"\n      }\n    },\n    {\n      \"column\": \"Hypertension\",\n      \"properties\": {\n        \"dtype\": \"number\",\n        \"std\": 17677.530411825996,\n        \"min\": 0.0,\n        \"max\": 50000.0,\n        \"num_unique_values\": 5,\n        \"samples\": [\n          0.29738,\n          1.0,\n          0.4571097402006546\n        ],\n        \"semantic_type\": \"\",\n        \"description\": \"\"\n      }\n    },\n    {\n      \"column\": \"Cholesterol_Level\",\n      \"properties\": {\n        \"dtype\": \"number\",\n        \"std\": 17607.46645920678,\n        \"min\": 43.317373107462714,\n        \"max\": 50000.0,\n        \"num_unique_values\": 8,\n        \"samples\": [\n          225.03644400000002,\n          225.1,\n          50000.0\n        ],\n        \"semantic_type\": \"\",\n        \"description\": \"\"\n      }\n    },\n    {\n      \"column\": \"Resting_BP\",\n      \"properties\": {\n        \"dtype\": \"number\",\n        \"std\": 17635.690916937438,\n        \"min\": 25.90796097030467,\n        \"max\": 50000.0,\n        \"num_unique_values\": 8,\n        \"samples\": [\n          134.4341,\n          134.0,\n          50000.0\n        ],\n        \"semantic_type\": \"\",\n        \"description\": \"\"\n      }\n    },\n    {\n      \"column\": \"Heart_Rate\",\n      \"properties\": {\n        \"dtype\": \"number\",\n        \"std\": 17648.0670482893,\n        \"min\": 20.187124148061113,\n        \"max\": 50000.0,\n        \"num_unique_values\": 8,\n        \"samples\": [\n          94.53048,\n          94.0,\n          50000.0\n        ],\n        \"semantic_type\": \"\",\n        \"description\": \"\"\n      }\n    },\n    {\n      \"column\": \"Family_History\",\n      \"properties\": {\n        \"dtype\": \"number\",\n        \"std\": 17677.530196629,\n        \"min\": 0.0,\n        \"max\": 50000.0,\n        \"num_unique_values\": 5,\n        \"samples\": [\n          0.30034,\n          1.0,\n          0.4584103916815907\n        ],\n        \"semantic_type\": \"\",\n        \"description\": \"\"\n      }\n    },\n    {\n      \"column\": \"Fasting_Blood_Sugar\",\n      \"properties\": {\n        \"dtype\": \"number\",\n        \"std\": 17677.5934782839,\n        \"min\": 0.0,\n        \"max\": 50000.0,\n        \"num_unique_values\": 5,\n        \"samples\": [\n          0.14936,\n          1.0,\n          0.3564465338343959\n        ],\n        \"semantic_type\": \"\",\n        \"description\": \"\"\n      }\n    },\n    {\n      \"column\": \"Exercise_Induced_Angina\",\n      \"properties\": {\n        \"dtype\": \"number\",\n        \"std\": 17677.58857593747,\n        \"min\": 0.0,\n        \"max\": 50000.0,\n        \"num_unique_values\": 5,\n        \"samples\": [\n          0.20164,\n          1.0,\n          0.4012287752523847\n        ],\n        \"semantic_type\": \"\",\n        \"description\": \"\"\n      }\n    },\n    {\n      \"column\": \"Max_Heart_Rate_Achieved\",\n      \"properties\": {\n        \"dtype\": \"number\",\n        \"std\": 17631.06921678031,\n        \"min\": 28.823699339211508,\n        \"max\": 50000.0,\n        \"num_unique_values\": 8,\n        \"samples\": [\n          149.30534,\n          149.0,\n          50000.0\n        ],\n        \"semantic_type\": \"\",\n        \"description\": \"\"\n      }\n    }\n  ]\n}",
              "type": "dataframe"
            },
            "text/html": [
              "\n",
              "  <div id=\"df-c33999b6-a6c8-490c-aff9-468872c817f2\" class=\"colab-df-container\">\n",
              "    <div>\n",
              "<style scoped>\n",
              "    .dataframe tbody tr th:only-of-type {\n",
              "        vertical-align: middle;\n",
              "    }\n",
              "\n",
              "    .dataframe tbody tr th {\n",
              "        vertical-align: top;\n",
              "    }\n",
              "\n",
              "    .dataframe thead th {\n",
              "        text-align: right;\n",
              "    }\n",
              "</style>\n",
              "<table border=\"1\" class=\"dataframe\">\n",
              "  <thead>\n",
              "    <tr style=\"text-align: right;\">\n",
              "      <th></th>\n",
              "      <th>Age</th>\n",
              "      <th>Smoking</th>\n",
              "      <th>Alcohol_Consumption</th>\n",
              "      <th>BMI</th>\n",
              "      <th>Diabetes</th>\n",
              "      <th>Hypertension</th>\n",
              "      <th>Cholesterol_Level</th>\n",
              "      <th>Resting_BP</th>\n",
              "      <th>Heart_Rate</th>\n",
              "      <th>Family_History</th>\n",
              "      <th>Fasting_Blood_Sugar</th>\n",
              "      <th>Exercise_Induced_Angina</th>\n",
              "      <th>Max_Heart_Rate_Achieved</th>\n",
              "    </tr>\n",
              "  </thead>\n",
              "  <tbody>\n",
              "    <tr>\n",
              "      <th>count</th>\n",
              "      <td>50000.000000</td>\n",
              "      <td>50000.000000</td>\n",
              "      <td>50000.000000</td>\n",
              "      <td>50000.000000</td>\n",
              "      <td>50000.000000</td>\n",
              "      <td>50000.00000</td>\n",
              "      <td>50000.000000</td>\n",
              "      <td>50000.000000</td>\n",
              "      <td>50000.000000</td>\n",
              "      <td>50000.00000</td>\n",
              "      <td>50000.000000</td>\n",
              "      <td>50000.000000</td>\n",
              "      <td>50000.000000</td>\n",
              "    </tr>\n",
              "    <tr>\n",
              "      <th>mean</th>\n",
              "      <td>53.398700</td>\n",
              "      <td>0.298420</td>\n",
              "      <td>0.401980</td>\n",
              "      <td>27.519357</td>\n",
              "      <td>0.198840</td>\n",
              "      <td>0.29738</td>\n",
              "      <td>225.036444</td>\n",
              "      <td>134.434100</td>\n",
              "      <td>94.530480</td>\n",
              "      <td>0.30034</td>\n",
              "      <td>0.149360</td>\n",
              "      <td>0.201640</td>\n",
              "      <td>149.305340</td>\n",
              "    </tr>\n",
              "    <tr>\n",
              "      <th>std</th>\n",
              "      <td>20.799006</td>\n",
              "      <td>0.457569</td>\n",
              "      <td>0.490303</td>\n",
              "      <td>7.225176</td>\n",
              "      <td>0.399131</td>\n",
              "      <td>0.45711</td>\n",
              "      <td>43.317373</td>\n",
              "      <td>25.907961</td>\n",
              "      <td>20.187124</td>\n",
              "      <td>0.45841</td>\n",
              "      <td>0.356447</td>\n",
              "      <td>0.401229</td>\n",
              "      <td>28.823699</td>\n",
              "    </tr>\n",
              "    <tr>\n",
              "      <th>min</th>\n",
              "      <td>18.000000</td>\n",
              "      <td>0.000000</td>\n",
              "      <td>0.000000</td>\n",
              "      <td>15.000000</td>\n",
              "      <td>0.000000</td>\n",
              "      <td>0.00000</td>\n",
              "      <td>150.000000</td>\n",
              "      <td>90.000000</td>\n",
              "      <td>60.000000</td>\n",
              "      <td>0.00000</td>\n",
              "      <td>0.000000</td>\n",
              "      <td>0.000000</td>\n",
              "      <td>100.000000</td>\n",
              "    </tr>\n",
              "    <tr>\n",
              "      <th>25%</th>\n",
              "      <td>35.000000</td>\n",
              "      <td>0.000000</td>\n",
              "      <td>0.000000</td>\n",
              "      <td>21.270000</td>\n",
              "      <td>0.000000</td>\n",
              "      <td>0.00000</td>\n",
              "      <td>187.300000</td>\n",
              "      <td>112.000000</td>\n",
              "      <td>77.000000</td>\n",
              "      <td>0.00000</td>\n",
              "      <td>0.000000</td>\n",
              "      <td>0.000000</td>\n",
              "      <td>124.000000</td>\n",
              "    </tr>\n",
              "    <tr>\n",
              "      <th>50%</th>\n",
              "      <td>53.000000</td>\n",
              "      <td>0.000000</td>\n",
              "      <td>0.000000</td>\n",
              "      <td>27.540000</td>\n",
              "      <td>0.000000</td>\n",
              "      <td>0.00000</td>\n",
              "      <td>225.100000</td>\n",
              "      <td>134.000000</td>\n",
              "      <td>94.000000</td>\n",
              "      <td>0.00000</td>\n",
              "      <td>0.000000</td>\n",
              "      <td>0.000000</td>\n",
              "      <td>149.000000</td>\n",
              "    </tr>\n",
              "    <tr>\n",
              "      <th>75%</th>\n",
              "      <td>71.000000</td>\n",
              "      <td>1.000000</td>\n",
              "      <td>1.000000</td>\n",
              "      <td>33.770000</td>\n",
              "      <td>0.000000</td>\n",
              "      <td>1.00000</td>\n",
              "      <td>262.600000</td>\n",
              "      <td>157.000000</td>\n",
              "      <td>112.000000</td>\n",
              "      <td>1.00000</td>\n",
              "      <td>0.000000</td>\n",
              "      <td>0.000000</td>\n",
              "      <td>174.000000</td>\n",
              "    </tr>\n",
              "    <tr>\n",
              "      <th>max</th>\n",
              "      <td>89.000000</td>\n",
              "      <td>1.000000</td>\n",
              "      <td>1.000000</td>\n",
              "      <td>40.000000</td>\n",
              "      <td>1.000000</td>\n",
              "      <td>1.00000</td>\n",
              "      <td>300.000000</td>\n",
              "      <td>179.000000</td>\n",
              "      <td>129.000000</td>\n",
              "      <td>1.00000</td>\n",
              "      <td>1.000000</td>\n",
              "      <td>1.000000</td>\n",
              "      <td>199.000000</td>\n",
              "    </tr>\n",
              "  </tbody>\n",
              "</table>\n",
              "</div>\n",
              "    <div class=\"colab-df-buttons\">\n",
              "\n",
              "  <div class=\"colab-df-container\">\n",
              "    <button class=\"colab-df-convert\" onclick=\"convertToInteractive('df-c33999b6-a6c8-490c-aff9-468872c817f2')\"\n",
              "            title=\"Convert this dataframe to an interactive table.\"\n",
              "            style=\"display:none;\">\n",
              "\n",
              "  <svg xmlns=\"http://www.w3.org/2000/svg\" height=\"24px\" viewBox=\"0 -960 960 960\">\n",
              "    <path d=\"M120-120v-720h720v720H120Zm60-500h600v-160H180v160Zm220 220h160v-160H400v160Zm0 220h160v-160H400v160ZM180-400h160v-160H180v160Zm440 0h160v-160H620v160ZM180-180h160v-160H180v160Zm440 0h160v-160H620v160Z\"/>\n",
              "  </svg>\n",
              "    </button>\n",
              "\n",
              "  <style>\n",
              "    .colab-df-container {\n",
              "      display:flex;\n",
              "      gap: 12px;\n",
              "    }\n",
              "\n",
              "    .colab-df-convert {\n",
              "      background-color: #E8F0FE;\n",
              "      border: none;\n",
              "      border-radius: 50%;\n",
              "      cursor: pointer;\n",
              "      display: none;\n",
              "      fill: #1967D2;\n",
              "      height: 32px;\n",
              "      padding: 0 0 0 0;\n",
              "      width: 32px;\n",
              "    }\n",
              "\n",
              "    .colab-df-convert:hover {\n",
              "      background-color: #E2EBFA;\n",
              "      box-shadow: 0px 1px 2px rgba(60, 64, 67, 0.3), 0px 1px 3px 1px rgba(60, 64, 67, 0.15);\n",
              "      fill: #174EA6;\n",
              "    }\n",
              "\n",
              "    .colab-df-buttons div {\n",
              "      margin-bottom: 4px;\n",
              "    }\n",
              "\n",
              "    [theme=dark] .colab-df-convert {\n",
              "      background-color: #3B4455;\n",
              "      fill: #D2E3FC;\n",
              "    }\n",
              "\n",
              "    [theme=dark] .colab-df-convert:hover {\n",
              "      background-color: #434B5C;\n",
              "      box-shadow: 0px 1px 3px 1px rgba(0, 0, 0, 0.15);\n",
              "      filter: drop-shadow(0px 1px 2px rgba(0, 0, 0, 0.3));\n",
              "      fill: #FFFFFF;\n",
              "    }\n",
              "  </style>\n",
              "\n",
              "    <script>\n",
              "      const buttonEl =\n",
              "        document.querySelector('#df-c33999b6-a6c8-490c-aff9-468872c817f2 button.colab-df-convert');\n",
              "      buttonEl.style.display =\n",
              "        google.colab.kernel.accessAllowed ? 'block' : 'none';\n",
              "\n",
              "      async function convertToInteractive(key) {\n",
              "        const element = document.querySelector('#df-c33999b6-a6c8-490c-aff9-468872c817f2');\n",
              "        const dataTable =\n",
              "          await google.colab.kernel.invokeFunction('convertToInteractive',\n",
              "                                                    [key], {});\n",
              "        if (!dataTable) return;\n",
              "\n",
              "        const docLinkHtml = 'Like what you see? Visit the ' +\n",
              "          '<a target=\"_blank\" href=https://colab.research.google.com/notebooks/data_table.ipynb>data table notebook</a>'\n",
              "          + ' to learn more about interactive tables.';\n",
              "        element.innerHTML = '';\n",
              "        dataTable['output_type'] = 'display_data';\n",
              "        await google.colab.output.renderOutput(dataTable, element);\n",
              "        const docLink = document.createElement('div');\n",
              "        docLink.innerHTML = docLinkHtml;\n",
              "        element.appendChild(docLink);\n",
              "      }\n",
              "    </script>\n",
              "  </div>\n",
              "\n",
              "\n",
              "<div id=\"df-6e621c83-70d4-48ee-b59e-1032bf173abc\">\n",
              "  <button class=\"colab-df-quickchart\" onclick=\"quickchart('df-6e621c83-70d4-48ee-b59e-1032bf173abc')\"\n",
              "            title=\"Suggest charts\"\n",
              "            style=\"display:none;\">\n",
              "\n",
              "<svg xmlns=\"http://www.w3.org/2000/svg\" height=\"24px\"viewBox=\"0 0 24 24\"\n",
              "     width=\"24px\">\n",
              "    <g>\n",
              "        <path d=\"M19 3H5c-1.1 0-2 .9-2 2v14c0 1.1.9 2 2 2h14c1.1 0 2-.9 2-2V5c0-1.1-.9-2-2-2zM9 17H7v-7h2v7zm4 0h-2V7h2v10zm4 0h-2v-4h2v4z\"/>\n",
              "    </g>\n",
              "</svg>\n",
              "  </button>\n",
              "\n",
              "<style>\n",
              "  .colab-df-quickchart {\n",
              "      --bg-color: #E8F0FE;\n",
              "      --fill-color: #1967D2;\n",
              "      --hover-bg-color: #E2EBFA;\n",
              "      --hover-fill-color: #174EA6;\n",
              "      --disabled-fill-color: #AAA;\n",
              "      --disabled-bg-color: #DDD;\n",
              "  }\n",
              "\n",
              "  [theme=dark] .colab-df-quickchart {\n",
              "      --bg-color: #3B4455;\n",
              "      --fill-color: #D2E3FC;\n",
              "      --hover-bg-color: #434B5C;\n",
              "      --hover-fill-color: #FFFFFF;\n",
              "      --disabled-bg-color: #3B4455;\n",
              "      --disabled-fill-color: #666;\n",
              "  }\n",
              "\n",
              "  .colab-df-quickchart {\n",
              "    background-color: var(--bg-color);\n",
              "    border: none;\n",
              "    border-radius: 50%;\n",
              "    cursor: pointer;\n",
              "    display: none;\n",
              "    fill: var(--fill-color);\n",
              "    height: 32px;\n",
              "    padding: 0;\n",
              "    width: 32px;\n",
              "  }\n",
              "\n",
              "  .colab-df-quickchart:hover {\n",
              "    background-color: var(--hover-bg-color);\n",
              "    box-shadow: 0 1px 2px rgba(60, 64, 67, 0.3), 0 1px 3px 1px rgba(60, 64, 67, 0.15);\n",
              "    fill: var(--button-hover-fill-color);\n",
              "  }\n",
              "\n",
              "  .colab-df-quickchart-complete:disabled,\n",
              "  .colab-df-quickchart-complete:disabled:hover {\n",
              "    background-color: var(--disabled-bg-color);\n",
              "    fill: var(--disabled-fill-color);\n",
              "    box-shadow: none;\n",
              "  }\n",
              "\n",
              "  .colab-df-spinner {\n",
              "    border: 2px solid var(--fill-color);\n",
              "    border-color: transparent;\n",
              "    border-bottom-color: var(--fill-color);\n",
              "    animation:\n",
              "      spin 1s steps(1) infinite;\n",
              "  }\n",
              "\n",
              "  @keyframes spin {\n",
              "    0% {\n",
              "      border-color: transparent;\n",
              "      border-bottom-color: var(--fill-color);\n",
              "      border-left-color: var(--fill-color);\n",
              "    }\n",
              "    20% {\n",
              "      border-color: transparent;\n",
              "      border-left-color: var(--fill-color);\n",
              "      border-top-color: var(--fill-color);\n",
              "    }\n",
              "    30% {\n",
              "      border-color: transparent;\n",
              "      border-left-color: var(--fill-color);\n",
              "      border-top-color: var(--fill-color);\n",
              "      border-right-color: var(--fill-color);\n",
              "    }\n",
              "    40% {\n",
              "      border-color: transparent;\n",
              "      border-right-color: var(--fill-color);\n",
              "      border-top-color: var(--fill-color);\n",
              "    }\n",
              "    60% {\n",
              "      border-color: transparent;\n",
              "      border-right-color: var(--fill-color);\n",
              "    }\n",
              "    80% {\n",
              "      border-color: transparent;\n",
              "      border-right-color: var(--fill-color);\n",
              "      border-bottom-color: var(--fill-color);\n",
              "    }\n",
              "    90% {\n",
              "      border-color: transparent;\n",
              "      border-bottom-color: var(--fill-color);\n",
              "    }\n",
              "  }\n",
              "</style>\n",
              "\n",
              "  <script>\n",
              "    async function quickchart(key) {\n",
              "      const quickchartButtonEl =\n",
              "        document.querySelector('#' + key + ' button');\n",
              "      quickchartButtonEl.disabled = true;  // To prevent multiple clicks.\n",
              "      quickchartButtonEl.classList.add('colab-df-spinner');\n",
              "      try {\n",
              "        const charts = await google.colab.kernel.invokeFunction(\n",
              "            'suggestCharts', [key], {});\n",
              "      } catch (error) {\n",
              "        console.error('Error during call to suggestCharts:', error);\n",
              "      }\n",
              "      quickchartButtonEl.classList.remove('colab-df-spinner');\n",
              "      quickchartButtonEl.classList.add('colab-df-quickchart-complete');\n",
              "    }\n",
              "    (() => {\n",
              "      let quickchartButtonEl =\n",
              "        document.querySelector('#df-6e621c83-70d4-48ee-b59e-1032bf173abc button');\n",
              "      quickchartButtonEl.style.display =\n",
              "        google.colab.kernel.accessAllowed ? 'block' : 'none';\n",
              "    })();\n",
              "  </script>\n",
              "</div>\n",
              "\n",
              "    </div>\n",
              "  </div>\n"
            ],
            "text/plain": [
              "                Age       Smoking  Alcohol_Consumption           BMI  \\\n",
              "count  50000.000000  50000.000000         50000.000000  50000.000000   \n",
              "mean      53.398700      0.298420             0.401980     27.519357   \n",
              "std       20.799006      0.457569             0.490303      7.225176   \n",
              "min       18.000000      0.000000             0.000000     15.000000   \n",
              "25%       35.000000      0.000000             0.000000     21.270000   \n",
              "50%       53.000000      0.000000             0.000000     27.540000   \n",
              "75%       71.000000      1.000000             1.000000     33.770000   \n",
              "max       89.000000      1.000000             1.000000     40.000000   \n",
              "\n",
              "           Diabetes  Hypertension  Cholesterol_Level    Resting_BP  \\\n",
              "count  50000.000000   50000.00000       50000.000000  50000.000000   \n",
              "mean       0.198840       0.29738         225.036444    134.434100   \n",
              "std        0.399131       0.45711          43.317373     25.907961   \n",
              "min        0.000000       0.00000         150.000000     90.000000   \n",
              "25%        0.000000       0.00000         187.300000    112.000000   \n",
              "50%        0.000000       0.00000         225.100000    134.000000   \n",
              "75%        0.000000       1.00000         262.600000    157.000000   \n",
              "max        1.000000       1.00000         300.000000    179.000000   \n",
              "\n",
              "         Heart_Rate  Family_History  Fasting_Blood_Sugar  \\\n",
              "count  50000.000000     50000.00000         50000.000000   \n",
              "mean      94.530480         0.30034             0.149360   \n",
              "std       20.187124         0.45841             0.356447   \n",
              "min       60.000000         0.00000             0.000000   \n",
              "25%       77.000000         0.00000             0.000000   \n",
              "50%       94.000000         0.00000             0.000000   \n",
              "75%      112.000000         1.00000             0.000000   \n",
              "max      129.000000         1.00000             1.000000   \n",
              "\n",
              "       Exercise_Induced_Angina  Max_Heart_Rate_Achieved  \n",
              "count             50000.000000             50000.000000  \n",
              "mean                  0.201640               149.305340  \n",
              "std                   0.401229                28.823699  \n",
              "min                   0.000000               100.000000  \n",
              "25%                   0.000000               124.000000  \n",
              "50%                   0.000000               149.000000  \n",
              "75%                   0.000000               174.000000  \n",
              "max                   1.000000               199.000000  "
            ]
          },
          "execution_count": 60,
          "metadata": {},
          "output_type": "execute_result"
        }
      ],
      "source": [
        "df.describe()"
      ]
    },
    {
      "cell_type": "code",
      "source": [
        "df.duplicated().sum()"
      ],
      "metadata": {
        "id": "RX30vRaBvQ9U",
        "outputId": "8f2b9af8-1937-4b15-a686-a52074c7c5d9",
        "colab": {
          "base_uri": "https://localhost:8080/"
        }
      },
      "execution_count": null,
      "outputs": [
        {
          "output_type": "execute_result",
          "data": {
            "text/plain": [
              "0"
            ]
          },
          "metadata": {},
          "execution_count": 101
        }
      ]
    },
    {
      "cell_type": "code",
      "execution_count": null,
      "metadata": {
        "colab": {
          "base_uri": "https://localhost:8080/",
          "height": 711
        },
        "id": "TELfMuaNLLD_",
        "outputId": "bcf0fe66-4311-4cfb-fe19-b8efbab8b20f"
      },
      "outputs": [
        {
          "data": {
            "text/html": [
              "<div>\n",
              "<style scoped>\n",
              "    .dataframe tbody tr th:only-of-type {\n",
              "        vertical-align: middle;\n",
              "    }\n",
              "\n",
              "    .dataframe tbody tr th {\n",
              "        vertical-align: top;\n",
              "    }\n",
              "\n",
              "    .dataframe thead th {\n",
              "        text-align: right;\n",
              "    }\n",
              "</style>\n",
              "<table border=\"1\" class=\"dataframe\">\n",
              "  <thead>\n",
              "    <tr style=\"text-align: right;\">\n",
              "      <th></th>\n",
              "      <th>0</th>\n",
              "    </tr>\n",
              "  </thead>\n",
              "  <tbody>\n",
              "    <tr>\n",
              "      <th>Age</th>\n",
              "      <td>0</td>\n",
              "    </tr>\n",
              "    <tr>\n",
              "      <th>Gender</th>\n",
              "      <td>0</td>\n",
              "    </tr>\n",
              "    <tr>\n",
              "      <th>Smoking</th>\n",
              "      <td>0</td>\n",
              "    </tr>\n",
              "    <tr>\n",
              "      <th>Alcohol_Consumption</th>\n",
              "      <td>0</td>\n",
              "    </tr>\n",
              "    <tr>\n",
              "      <th>Physical_Activity_Level</th>\n",
              "      <td>0</td>\n",
              "    </tr>\n",
              "    <tr>\n",
              "      <th>BMI</th>\n",
              "      <td>0</td>\n",
              "    </tr>\n",
              "    <tr>\n",
              "      <th>Diabetes</th>\n",
              "      <td>0</td>\n",
              "    </tr>\n",
              "    <tr>\n",
              "      <th>Hypertension</th>\n",
              "      <td>0</td>\n",
              "    </tr>\n",
              "    <tr>\n",
              "      <th>Cholesterol_Level</th>\n",
              "      <td>0</td>\n",
              "    </tr>\n",
              "    <tr>\n",
              "      <th>Resting_BP</th>\n",
              "      <td>0</td>\n",
              "    </tr>\n",
              "    <tr>\n",
              "      <th>Heart_Rate</th>\n",
              "      <td>0</td>\n",
              "    </tr>\n",
              "    <tr>\n",
              "      <th>Family_History</th>\n",
              "      <td>0</td>\n",
              "    </tr>\n",
              "    <tr>\n",
              "      <th>Stress_Level</th>\n",
              "      <td>0</td>\n",
              "    </tr>\n",
              "    <tr>\n",
              "      <th>Chest_Pain_Type</th>\n",
              "      <td>0</td>\n",
              "    </tr>\n",
              "    <tr>\n",
              "      <th>Thalassemia</th>\n",
              "      <td>0</td>\n",
              "    </tr>\n",
              "    <tr>\n",
              "      <th>Fasting_Blood_Sugar</th>\n",
              "      <td>0</td>\n",
              "    </tr>\n",
              "    <tr>\n",
              "      <th>ECG_Results</th>\n",
              "      <td>0</td>\n",
              "    </tr>\n",
              "    <tr>\n",
              "      <th>Exercise_Induced_Angina</th>\n",
              "      <td>0</td>\n",
              "    </tr>\n",
              "    <tr>\n",
              "      <th>Max_Heart_Rate_Achieved</th>\n",
              "      <td>0</td>\n",
              "    </tr>\n",
              "    <tr>\n",
              "      <th>Heart_Attack_Risk</th>\n",
              "      <td>0</td>\n",
              "    </tr>\n",
              "  </tbody>\n",
              "</table>\n",
              "</div><br><label><b>dtype:</b> int64</label>"
            ],
            "text/plain": [
              "Age                        0\n",
              "Gender                     0\n",
              "Smoking                    0\n",
              "Alcohol_Consumption        0\n",
              "Physical_Activity_Level    0\n",
              "BMI                        0\n",
              "Diabetes                   0\n",
              "Hypertension               0\n",
              "Cholesterol_Level          0\n",
              "Resting_BP                 0\n",
              "Heart_Rate                 0\n",
              "Family_History             0\n",
              "Stress_Level               0\n",
              "Chest_Pain_Type            0\n",
              "Thalassemia                0\n",
              "Fasting_Blood_Sugar        0\n",
              "ECG_Results                0\n",
              "Exercise_Induced_Angina    0\n",
              "Max_Heart_Rate_Achieved    0\n",
              "Heart_Attack_Risk          0\n",
              "dtype: int64"
            ]
          },
          "execution_count": 61,
          "metadata": {},
          "output_type": "execute_result"
        }
      ],
      "source": [
        "df.isna().sum()"
      ]
    },
    {
      "cell_type": "code",
      "execution_count": null,
      "metadata": {
        "colab": {
          "base_uri": "https://localhost:8080/",
          "height": 330
        },
        "id": "9Ntl28ghLPLg",
        "outputId": "73b93e3a-8f8a-4511-8a59-9375d990c53c"
      },
      "outputs": [
        {
          "data": {
            "application/vnd.google.colaboratory.intrinsic+json": {
              "summary": "{\n  \"name\": \"df\",\n  \"rows\": 50000,\n  \"fields\": [\n    {\n      \"column\": \"Age\",\n      \"properties\": {\n        \"dtype\": \"number\",\n        \"std\": 20,\n        \"min\": 18,\n        \"max\": 89,\n        \"num_unique_values\": 72,\n        \"samples\": [\n          38,\n          85,\n          59\n        ],\n        \"semantic_type\": \"\",\n        \"description\": \"\"\n      }\n    },\n    {\n      \"column\": \"Gender\",\n      \"properties\": {\n        \"dtype\": \"category\",\n        \"num_unique_values\": 2,\n        \"samples\": [\n          \"Male\",\n          \"Female\"\n        ],\n        \"semantic_type\": \"\",\n        \"description\": \"\"\n      }\n    },\n    {\n      \"column\": \"Smoking\",\n      \"properties\": {\n        \"dtype\": \"number\",\n        \"std\": 0,\n        \"min\": 0,\n        \"max\": 1,\n        \"num_unique_values\": 2,\n        \"samples\": [\n          0,\n          1\n        ],\n        \"semantic_type\": \"\",\n        \"description\": \"\"\n      }\n    },\n    {\n      \"column\": \"Alcohol_Consumption\",\n      \"properties\": {\n        \"dtype\": \"number\",\n        \"std\": 0,\n        \"min\": 0,\n        \"max\": 1,\n        \"num_unique_values\": 2,\n        \"samples\": [\n          1,\n          0\n        ],\n        \"semantic_type\": \"\",\n        \"description\": \"\"\n      }\n    },\n    {\n      \"column\": \"Physical_Activity_Level\",\n      \"properties\": {\n        \"dtype\": \"category\",\n        \"num_unique_values\": 3,\n        \"samples\": [\n          \"Moderate\",\n          \"Low\"\n        ],\n        \"semantic_type\": \"\",\n        \"description\": \"\"\n      }\n    },\n    {\n      \"column\": \"BMI\",\n      \"properties\": {\n        \"dtype\": \"number\",\n        \"std\": 7.2251756027142955,\n        \"min\": 15.0,\n        \"max\": 40.0,\n        \"num_unique_values\": 2501,\n        \"samples\": [\n          16.16,\n          39.52\n        ],\n        \"semantic_type\": \"\",\n        \"description\": \"\"\n      }\n    },\n    {\n      \"column\": \"Diabetes\",\n      \"properties\": {\n        \"dtype\": \"number\",\n        \"std\": 0,\n        \"min\": 0,\n        \"max\": 1,\n        \"num_unique_values\": 2,\n        \"samples\": [\n          0,\n          1\n        ],\n        \"semantic_type\": \"\",\n        \"description\": \"\"\n      }\n    },\n    {\n      \"column\": \"Hypertension\",\n      \"properties\": {\n        \"dtype\": \"number\",\n        \"std\": 0,\n        \"min\": 0,\n        \"max\": 1,\n        \"num_unique_values\": 2,\n        \"samples\": [\n          1,\n          0\n        ],\n        \"semantic_type\": \"\",\n        \"description\": \"\"\n      }\n    },\n    {\n      \"column\": \"Cholesterol_Level\",\n      \"properties\": {\n        \"dtype\": \"number\",\n        \"std\": 43.317373107462714,\n        \"min\": 150.0,\n        \"max\": 300.0,\n        \"num_unique_values\": 1501,\n        \"samples\": [\n          245.8,\n          156.6\n        ],\n        \"semantic_type\": \"\",\n        \"description\": \"\"\n      }\n    },\n    {\n      \"column\": \"Resting_BP\",\n      \"properties\": {\n        \"dtype\": \"number\",\n        \"std\": 25,\n        \"min\": 90,\n        \"max\": 179,\n        \"num_unique_values\": 90,\n        \"samples\": [\n          96,\n          132\n        ],\n        \"semantic_type\": \"\",\n        \"description\": \"\"\n      }\n    },\n    {\n      \"column\": \"Heart_Rate\",\n      \"properties\": {\n        \"dtype\": \"number\",\n        \"std\": 20,\n        \"min\": 60,\n        \"max\": 129,\n        \"num_unique_values\": 70,\n        \"samples\": [\n          84,\n          85\n        ],\n        \"semantic_type\": \"\",\n        \"description\": \"\"\n      }\n    },\n    {\n      \"column\": \"Family_History\",\n      \"properties\": {\n        \"dtype\": \"number\",\n        \"std\": 0,\n        \"min\": 0,\n        \"max\": 1,\n        \"num_unique_values\": 2,\n        \"samples\": [\n          1,\n          0\n        ],\n        \"semantic_type\": \"\",\n        \"description\": \"\"\n      }\n    },\n    {\n      \"column\": \"Stress_Level\",\n      \"properties\": {\n        \"dtype\": \"category\",\n        \"num_unique_values\": 3,\n        \"samples\": [\n          \"Moderate\",\n          \"Low\"\n        ],\n        \"semantic_type\": \"\",\n        \"description\": \"\"\n      }\n    },\n    {\n      \"column\": \"Chest_Pain_Type\",\n      \"properties\": {\n        \"dtype\": \"category\",\n        \"num_unique_values\": 4,\n        \"samples\": [\n          \"Asymptomatic\",\n          \"Atypical\"\n        ],\n        \"semantic_type\": \"\",\n        \"description\": \"\"\n      }\n    },\n    {\n      \"column\": \"Thalassemia\",\n      \"properties\": {\n        \"dtype\": \"category\",\n        \"num_unique_values\": 3,\n        \"samples\": [\n          \"Reversible defect\",\n          \"Normal\"\n        ],\n        \"semantic_type\": \"\",\n        \"description\": \"\"\n      }\n    },\n    {\n      \"column\": \"Fasting_Blood_Sugar\",\n      \"properties\": {\n        \"dtype\": \"number\",\n        \"std\": 0,\n        \"min\": 0,\n        \"max\": 1,\n        \"num_unique_values\": 2,\n        \"samples\": [\n          1,\n          0\n        ],\n        \"semantic_type\": \"\",\n        \"description\": \"\"\n      }\n    },\n    {\n      \"column\": \"ECG_Results\",\n      \"properties\": {\n        \"dtype\": \"category\",\n        \"num_unique_values\": 3,\n        \"samples\": [\n          \"Normal\",\n          \"ST-T abnormality\"\n        ],\n        \"semantic_type\": \"\",\n        \"description\": \"\"\n      }\n    },\n    {\n      \"column\": \"Exercise_Induced_Angina\",\n      \"properties\": {\n        \"dtype\": \"number\",\n        \"std\": 0,\n        \"min\": 0,\n        \"max\": 1,\n        \"num_unique_values\": 2,\n        \"samples\": [\n          1,\n          0\n        ],\n        \"semantic_type\": \"\",\n        \"description\": \"\"\n      }\n    },\n    {\n      \"column\": \"Max_Heart_Rate_Achieved\",\n      \"properties\": {\n        \"dtype\": \"number\",\n        \"std\": 28,\n        \"min\": 100,\n        \"max\": 199,\n        \"num_unique_values\": 100,\n        \"samples\": [\n          197,\n          138\n        ],\n        \"semantic_type\": \"\",\n        \"description\": \"\"\n      }\n    },\n    {\n      \"column\": \"Heart_Attack_Risk\",\n      \"properties\": {\n        \"dtype\": \"category\",\n        \"num_unique_values\": 3,\n        \"samples\": [\n          \"Low\",\n          \"Moderate\"\n        ],\n        \"semantic_type\": \"\",\n        \"description\": \"\"\n      }\n    }\n  ]\n}",
              "type": "dataframe",
              "variable_name": "df"
            },
            "text/html": [
              "\n",
              "  <div id=\"df-8e112f8e-3632-4bad-9c41-f0a0cbad983b\" class=\"colab-df-container\">\n",
              "    <div>\n",
              "<style scoped>\n",
              "    .dataframe tbody tr th:only-of-type {\n",
              "        vertical-align: middle;\n",
              "    }\n",
              "\n",
              "    .dataframe tbody tr th {\n",
              "        vertical-align: top;\n",
              "    }\n",
              "\n",
              "    .dataframe thead th {\n",
              "        text-align: right;\n",
              "    }\n",
              "</style>\n",
              "<table border=\"1\" class=\"dataframe\">\n",
              "  <thead>\n",
              "    <tr style=\"text-align: right;\">\n",
              "      <th></th>\n",
              "      <th>Age</th>\n",
              "      <th>Gender</th>\n",
              "      <th>Smoking</th>\n",
              "      <th>Alcohol_Consumption</th>\n",
              "      <th>Physical_Activity_Level</th>\n",
              "      <th>BMI</th>\n",
              "      <th>Diabetes</th>\n",
              "      <th>Hypertension</th>\n",
              "      <th>Cholesterol_Level</th>\n",
              "      <th>Resting_BP</th>\n",
              "      <th>Heart_Rate</th>\n",
              "      <th>Family_History</th>\n",
              "      <th>Stress_Level</th>\n",
              "      <th>Chest_Pain_Type</th>\n",
              "      <th>Thalassemia</th>\n",
              "      <th>Fasting_Blood_Sugar</th>\n",
              "      <th>ECG_Results</th>\n",
              "      <th>Exercise_Induced_Angina</th>\n",
              "      <th>Max_Heart_Rate_Achieved</th>\n",
              "      <th>Heart_Attack_Risk</th>\n",
              "    </tr>\n",
              "  </thead>\n",
              "  <tbody>\n",
              "    <tr>\n",
              "      <th>0</th>\n",
              "      <td>69</td>\n",
              "      <td>Female</td>\n",
              "      <td>1</td>\n",
              "      <td>0</td>\n",
              "      <td>Moderate</td>\n",
              "      <td>34.61</td>\n",
              "      <td>1</td>\n",
              "      <td>0</td>\n",
              "      <td>152.1</td>\n",
              "      <td>171</td>\n",
              "      <td>85</td>\n",
              "      <td>0</td>\n",
              "      <td>Moderate</td>\n",
              "      <td>Non-anginal</td>\n",
              "      <td>Reversible defect</td>\n",
              "      <td>0</td>\n",
              "      <td>Normal</td>\n",
              "      <td>0</td>\n",
              "      <td>114</td>\n",
              "      <td>Low</td>\n",
              "    </tr>\n",
              "    <tr>\n",
              "      <th>1</th>\n",
              "      <td>32</td>\n",
              "      <td>Male</td>\n",
              "      <td>0</td>\n",
              "      <td>0</td>\n",
              "      <td>Moderate</td>\n",
              "      <td>22.75</td>\n",
              "      <td>0</td>\n",
              "      <td>0</td>\n",
              "      <td>166.8</td>\n",
              "      <td>126</td>\n",
              "      <td>103</td>\n",
              "      <td>0</td>\n",
              "      <td>Low</td>\n",
              "      <td>Asymptomatic</td>\n",
              "      <td>Normal</td>\n",
              "      <td>0</td>\n",
              "      <td>ST-T abnormality</td>\n",
              "      <td>0</td>\n",
              "      <td>173</td>\n",
              "      <td>Moderate</td>\n",
              "    </tr>\n",
              "    <tr>\n",
              "      <th>2</th>\n",
              "      <td>89</td>\n",
              "      <td>Male</td>\n",
              "      <td>0</td>\n",
              "      <td>1</td>\n",
              "      <td>Moderate</td>\n",
              "      <td>35.32</td>\n",
              "      <td>0</td>\n",
              "      <td>0</td>\n",
              "      <td>272.3</td>\n",
              "      <td>123</td>\n",
              "      <td>127</td>\n",
              "      <td>0</td>\n",
              "      <td>Low</td>\n",
              "      <td>Typical</td>\n",
              "      <td>Reversible defect</td>\n",
              "      <td>0</td>\n",
              "      <td>ST-T abnormality</td>\n",
              "      <td>0</td>\n",
              "      <td>109</td>\n",
              "      <td>Low</td>\n",
              "    </tr>\n",
              "    <tr>\n",
              "      <th>3</th>\n",
              "      <td>78</td>\n",
              "      <td>Male</td>\n",
              "      <td>0</td>\n",
              "      <td>1</td>\n",
              "      <td>Moderate</td>\n",
              "      <td>18.23</td>\n",
              "      <td>1</td>\n",
              "      <td>0</td>\n",
              "      <td>237.7</td>\n",
              "      <td>144</td>\n",
              "      <td>125</td>\n",
              "      <td>0</td>\n",
              "      <td>Low</td>\n",
              "      <td>Typical</td>\n",
              "      <td>Fixed defect</td>\n",
              "      <td>1</td>\n",
              "      <td>Left Ventricular Hypertrophy</td>\n",
              "      <td>0</td>\n",
              "      <td>129</td>\n",
              "      <td>Low</td>\n",
              "    </tr>\n",
              "    <tr>\n",
              "      <th>4</th>\n",
              "      <td>38</td>\n",
              "      <td>Female</td>\n",
              "      <td>1</td>\n",
              "      <td>0</td>\n",
              "      <td>Moderate</td>\n",
              "      <td>19.82</td>\n",
              "      <td>0</td>\n",
              "      <td>0</td>\n",
              "      <td>207.7</td>\n",
              "      <td>123</td>\n",
              "      <td>107</td>\n",
              "      <td>0</td>\n",
              "      <td>High</td>\n",
              "      <td>Asymptomatic</td>\n",
              "      <td>Reversible defect</td>\n",
              "      <td>0</td>\n",
              "      <td>ST-T abnormality</td>\n",
              "      <td>0</td>\n",
              "      <td>124</td>\n",
              "      <td>Moderate</td>\n",
              "    </tr>\n",
              "  </tbody>\n",
              "</table>\n",
              "</div>\n",
              "    <div class=\"colab-df-buttons\">\n",
              "\n",
              "  <div class=\"colab-df-container\">\n",
              "    <button class=\"colab-df-convert\" onclick=\"convertToInteractive('df-8e112f8e-3632-4bad-9c41-f0a0cbad983b')\"\n",
              "            title=\"Convert this dataframe to an interactive table.\"\n",
              "            style=\"display:none;\">\n",
              "\n",
              "  <svg xmlns=\"http://www.w3.org/2000/svg\" height=\"24px\" viewBox=\"0 -960 960 960\">\n",
              "    <path d=\"M120-120v-720h720v720H120Zm60-500h600v-160H180v160Zm220 220h160v-160H400v160Zm0 220h160v-160H400v160ZM180-400h160v-160H180v160Zm440 0h160v-160H620v160ZM180-180h160v-160H180v160Zm440 0h160v-160H620v160Z\"/>\n",
              "  </svg>\n",
              "    </button>\n",
              "\n",
              "  <style>\n",
              "    .colab-df-container {\n",
              "      display:flex;\n",
              "      gap: 12px;\n",
              "    }\n",
              "\n",
              "    .colab-df-convert {\n",
              "      background-color: #E8F0FE;\n",
              "      border: none;\n",
              "      border-radius: 50%;\n",
              "      cursor: pointer;\n",
              "      display: none;\n",
              "      fill: #1967D2;\n",
              "      height: 32px;\n",
              "      padding: 0 0 0 0;\n",
              "      width: 32px;\n",
              "    }\n",
              "\n",
              "    .colab-df-convert:hover {\n",
              "      background-color: #E2EBFA;\n",
              "      box-shadow: 0px 1px 2px rgba(60, 64, 67, 0.3), 0px 1px 3px 1px rgba(60, 64, 67, 0.15);\n",
              "      fill: #174EA6;\n",
              "    }\n",
              "\n",
              "    .colab-df-buttons div {\n",
              "      margin-bottom: 4px;\n",
              "    }\n",
              "\n",
              "    [theme=dark] .colab-df-convert {\n",
              "      background-color: #3B4455;\n",
              "      fill: #D2E3FC;\n",
              "    }\n",
              "\n",
              "    [theme=dark] .colab-df-convert:hover {\n",
              "      background-color: #434B5C;\n",
              "      box-shadow: 0px 1px 3px 1px rgba(0, 0, 0, 0.15);\n",
              "      filter: drop-shadow(0px 1px 2px rgba(0, 0, 0, 0.3));\n",
              "      fill: #FFFFFF;\n",
              "    }\n",
              "  </style>\n",
              "\n",
              "    <script>\n",
              "      const buttonEl =\n",
              "        document.querySelector('#df-8e112f8e-3632-4bad-9c41-f0a0cbad983b button.colab-df-convert');\n",
              "      buttonEl.style.display =\n",
              "        google.colab.kernel.accessAllowed ? 'block' : 'none';\n",
              "\n",
              "      async function convertToInteractive(key) {\n",
              "        const element = document.querySelector('#df-8e112f8e-3632-4bad-9c41-f0a0cbad983b');\n",
              "        const dataTable =\n",
              "          await google.colab.kernel.invokeFunction('convertToInteractive',\n",
              "                                                    [key], {});\n",
              "        if (!dataTable) return;\n",
              "\n",
              "        const docLinkHtml = 'Like what you see? Visit the ' +\n",
              "          '<a target=\"_blank\" href=https://colab.research.google.com/notebooks/data_table.ipynb>data table notebook</a>'\n",
              "          + ' to learn more about interactive tables.';\n",
              "        element.innerHTML = '';\n",
              "        dataTable['output_type'] = 'display_data';\n",
              "        await google.colab.output.renderOutput(dataTable, element);\n",
              "        const docLink = document.createElement('div');\n",
              "        docLink.innerHTML = docLinkHtml;\n",
              "        element.appendChild(docLink);\n",
              "      }\n",
              "    </script>\n",
              "  </div>\n",
              "\n",
              "\n",
              "<div id=\"df-350e8f80-8e32-4e96-8dba-7ebb60f14592\">\n",
              "  <button class=\"colab-df-quickchart\" onclick=\"quickchart('df-350e8f80-8e32-4e96-8dba-7ebb60f14592')\"\n",
              "            title=\"Suggest charts\"\n",
              "            style=\"display:none;\">\n",
              "\n",
              "<svg xmlns=\"http://www.w3.org/2000/svg\" height=\"24px\"viewBox=\"0 0 24 24\"\n",
              "     width=\"24px\">\n",
              "    <g>\n",
              "        <path d=\"M19 3H5c-1.1 0-2 .9-2 2v14c0 1.1.9 2 2 2h14c1.1 0 2-.9 2-2V5c0-1.1-.9-2-2-2zM9 17H7v-7h2v7zm4 0h-2V7h2v10zm4 0h-2v-4h2v4z\"/>\n",
              "    </g>\n",
              "</svg>\n",
              "  </button>\n",
              "\n",
              "<style>\n",
              "  .colab-df-quickchart {\n",
              "      --bg-color: #E8F0FE;\n",
              "      --fill-color: #1967D2;\n",
              "      --hover-bg-color: #E2EBFA;\n",
              "      --hover-fill-color: #174EA6;\n",
              "      --disabled-fill-color: #AAA;\n",
              "      --disabled-bg-color: #DDD;\n",
              "  }\n",
              "\n",
              "  [theme=dark] .colab-df-quickchart {\n",
              "      --bg-color: #3B4455;\n",
              "      --fill-color: #D2E3FC;\n",
              "      --hover-bg-color: #434B5C;\n",
              "      --hover-fill-color: #FFFFFF;\n",
              "      --disabled-bg-color: #3B4455;\n",
              "      --disabled-fill-color: #666;\n",
              "  }\n",
              "\n",
              "  .colab-df-quickchart {\n",
              "    background-color: var(--bg-color);\n",
              "    border: none;\n",
              "    border-radius: 50%;\n",
              "    cursor: pointer;\n",
              "    display: none;\n",
              "    fill: var(--fill-color);\n",
              "    height: 32px;\n",
              "    padding: 0;\n",
              "    width: 32px;\n",
              "  }\n",
              "\n",
              "  .colab-df-quickchart:hover {\n",
              "    background-color: var(--hover-bg-color);\n",
              "    box-shadow: 0 1px 2px rgba(60, 64, 67, 0.3), 0 1px 3px 1px rgba(60, 64, 67, 0.15);\n",
              "    fill: var(--button-hover-fill-color);\n",
              "  }\n",
              "\n",
              "  .colab-df-quickchart-complete:disabled,\n",
              "  .colab-df-quickchart-complete:disabled:hover {\n",
              "    background-color: var(--disabled-bg-color);\n",
              "    fill: var(--disabled-fill-color);\n",
              "    box-shadow: none;\n",
              "  }\n",
              "\n",
              "  .colab-df-spinner {\n",
              "    border: 2px solid var(--fill-color);\n",
              "    border-color: transparent;\n",
              "    border-bottom-color: var(--fill-color);\n",
              "    animation:\n",
              "      spin 1s steps(1) infinite;\n",
              "  }\n",
              "\n",
              "  @keyframes spin {\n",
              "    0% {\n",
              "      border-color: transparent;\n",
              "      border-bottom-color: var(--fill-color);\n",
              "      border-left-color: var(--fill-color);\n",
              "    }\n",
              "    20% {\n",
              "      border-color: transparent;\n",
              "      border-left-color: var(--fill-color);\n",
              "      border-top-color: var(--fill-color);\n",
              "    }\n",
              "    30% {\n",
              "      border-color: transparent;\n",
              "      border-left-color: var(--fill-color);\n",
              "      border-top-color: var(--fill-color);\n",
              "      border-right-color: var(--fill-color);\n",
              "    }\n",
              "    40% {\n",
              "      border-color: transparent;\n",
              "      border-right-color: var(--fill-color);\n",
              "      border-top-color: var(--fill-color);\n",
              "    }\n",
              "    60% {\n",
              "      border-color: transparent;\n",
              "      border-right-color: var(--fill-color);\n",
              "    }\n",
              "    80% {\n",
              "      border-color: transparent;\n",
              "      border-right-color: var(--fill-color);\n",
              "      border-bottom-color: var(--fill-color);\n",
              "    }\n",
              "    90% {\n",
              "      border-color: transparent;\n",
              "      border-bottom-color: var(--fill-color);\n",
              "    }\n",
              "  }\n",
              "</style>\n",
              "\n",
              "  <script>\n",
              "    async function quickchart(key) {\n",
              "      const quickchartButtonEl =\n",
              "        document.querySelector('#' + key + ' button');\n",
              "      quickchartButtonEl.disabled = true;  // To prevent multiple clicks.\n",
              "      quickchartButtonEl.classList.add('colab-df-spinner');\n",
              "      try {\n",
              "        const charts = await google.colab.kernel.invokeFunction(\n",
              "            'suggestCharts', [key], {});\n",
              "      } catch (error) {\n",
              "        console.error('Error during call to suggestCharts:', error);\n",
              "      }\n",
              "      quickchartButtonEl.classList.remove('colab-df-spinner');\n",
              "      quickchartButtonEl.classList.add('colab-df-quickchart-complete');\n",
              "    }\n",
              "    (() => {\n",
              "      let quickchartButtonEl =\n",
              "        document.querySelector('#df-350e8f80-8e32-4e96-8dba-7ebb60f14592 button');\n",
              "      quickchartButtonEl.style.display =\n",
              "        google.colab.kernel.accessAllowed ? 'block' : 'none';\n",
              "    })();\n",
              "  </script>\n",
              "</div>\n",
              "\n",
              "    </div>\n",
              "  </div>\n"
            ],
            "text/plain": [
              "   Age  Gender  Smoking  Alcohol_Consumption Physical_Activity_Level    BMI  \\\n",
              "0   69  Female        1                    0                Moderate  34.61   \n",
              "1   32    Male        0                    0                Moderate  22.75   \n",
              "2   89    Male        0                    1                Moderate  35.32   \n",
              "3   78    Male        0                    1                Moderate  18.23   \n",
              "4   38  Female        1                    0                Moderate  19.82   \n",
              "\n",
              "   Diabetes  Hypertension  Cholesterol_Level  Resting_BP  Heart_Rate  \\\n",
              "0         1             0              152.1         171          85   \n",
              "1         0             0              166.8         126         103   \n",
              "2         0             0              272.3         123         127   \n",
              "3         1             0              237.7         144         125   \n",
              "4         0             0              207.7         123         107   \n",
              "\n",
              "   Family_History Stress_Level Chest_Pain_Type        Thalassemia  \\\n",
              "0               0     Moderate     Non-anginal  Reversible defect   \n",
              "1               0          Low    Asymptomatic             Normal   \n",
              "2               0          Low         Typical  Reversible defect   \n",
              "3               0          Low         Typical       Fixed defect   \n",
              "4               0         High    Asymptomatic  Reversible defect   \n",
              "\n",
              "   Fasting_Blood_Sugar                   ECG_Results  Exercise_Induced_Angina  \\\n",
              "0                    0                        Normal                        0   \n",
              "1                    0              ST-T abnormality                        0   \n",
              "2                    0              ST-T abnormality                        0   \n",
              "3                    1  Left Ventricular Hypertrophy                        0   \n",
              "4                    0              ST-T abnormality                        0   \n",
              "\n",
              "   Max_Heart_Rate_Achieved Heart_Attack_Risk  \n",
              "0                      114               Low  \n",
              "1                      173          Moderate  \n",
              "2                      109               Low  \n",
              "3                      129               Low  \n",
              "4                      124          Moderate  "
            ]
          },
          "execution_count": 62,
          "metadata": {},
          "output_type": "execute_result"
        }
      ],
      "source": [
        "df.head()"
      ]
    },
    {
      "cell_type": "code",
      "execution_count": null,
      "metadata": {
        "id": "HZsSCMN4LT_4"
      },
      "outputs": [],
      "source": [
        "df=df[df['Heart_Attack_Risk']!='Moderate']"
      ]
    },
    {
      "cell_type": "code",
      "execution_count": null,
      "metadata": {
        "colab": {
          "base_uri": "https://localhost:8080/",
          "height": 427
        },
        "id": "hGJK5olmLXi2",
        "outputId": "d3be6ac1-09cc-4a75-9488-6ffd785ac403"
      },
      "outputs": [
        {
          "data": {
            "image/png": "[encoded data removed]",
            "text/plain": [
              "<Figure size 1000x600 with 1 Axes>"
            ]
          },
          "metadata": {},
          "output_type": "display_data"
        }
      ],
      "source": [
        "plt.figure(figsize=(10, 6))\n",
        "sns.histplot(df['Age'], kde=True)\n",
        "plt.title('Distribution of Age')\n",
        "plt.xlabel('Age')\n",
        "plt.ylabel('Frequency')\n",
        "plt.show()"
      ]
    },
    {
      "cell_type": "markdown",
      "metadata": {
        "id": "-8Q4g0jZLb79"
      },
      "source": [
        "The histogram reveals a relatively uniform distribution of age, with a slight increase in frequency in the younger age groups"
      ]
    },
    {
      "cell_type": "code",
      "execution_count": null,
      "metadata": {
        "colab": {
          "base_uri": "https://localhost:8080/",
          "height": 370
        },
        "id": "2zBOV6JkLhbX",
        "outputId": "5035d9d6-6b3a-4e06-a09a-160ae5f65358"
      },
      "outputs": [
        {
          "data": {
            "image/png": "[encoded data removed]",
            "text/plain": [
              "<Figure size 1000x500 with 1 Axes>"
            ]
          },
          "metadata": {},
          "output_type": "display_data"
        }
      ],
      "source": [
        "plt.figure(figsize=(10, 5))\n",
        "sns.histplot(df, x=\"Age\", hue=\"Heart_Attack_Risk\", multiple=\"stack\", bins=10, palette=\"coolwarm\")\n",
        "plt.title(\"Distribution of Heart Attack Risk Across Age Groups\")\n",
        "plt.xlabel(\"Age\")\n",
        "plt.ylabel(\"Count\")\n",
        "plt.show()"
      ]
    },
    {
      "cell_type": "markdown",
      "metadata": {
        "id": "FORa2biqLrgQ"
      },
      "source": [
        "This stacked histogram shows that across all age groups, the number of people at low risk for heart attack is consistently the highest, followed by moderate risk, and then high risk, which is the lowest.  While the distribution of risk levels changes somewhat across age, the overall pattern of having the most people at low risk remains consistent."
      ]
    },
    {
      "cell_type": "code",
      "execution_count": null,
      "metadata": {
        "colab": {
          "base_uri": "https://localhost:8080/",
          "height": 559
        },
        "id": "7BMwKGk1LsQh",
        "outputId": "bbfdd83c-d344-4df3-d11a-7a8a5572f44e"
      },
      "outputs": [
        {
          "data": {
            "image/png": "[encoded data removed]",
            "text/plain": [
              "<Figure size 800x600 with 1 Axes>"
            ]
          },
          "metadata": {},
          "output_type": "display_data"
        }
      ],
      "source": [
        "plt.figure(figsize=(8, 6))\n",
        "df['Gender'].value_counts().plot(kind='bar')\n",
        "plt.title('Distribution of Gender')\n",
        "plt.show()"
      ]
    },
    {
      "cell_type": "markdown",
      "metadata": {
        "id": "H7EHhC7cMB-A"
      },
      "source": [
        "There are equal number of male and female in the dataset"
      ]
    },
    {
      "cell_type": "code",
      "execution_count": null,
      "metadata": {
        "colab": {
          "base_uri": "https://localhost:8080/",
          "height": 512
        },
        "id": "ybeG_TjZL59P",
        "outputId": "fc426af0-fb9a-432b-e940-674ca2bf16af"
      },
      "outputs": [
        {
          "data": {
            "image/png": "[encoded data removed]",
            "text/plain": [
              "<Figure size 800x600 with 1 Axes>"
            ]
          },
          "metadata": {},
          "output_type": "display_data"
        }
      ],
      "source": [
        "plt.figure(figsize=(8, 6))\n",
        "sns.countplot(x='Heart_Attack_Risk', hue='Gender', data=df)\n",
        "plt.title('Heart Attack Risk by Gender')\n",
        "plt.show()"
      ]
    },
    {
      "cell_type": "markdown",
      "metadata": {
        "id": "jPTfSdcCMJ1T"
      },
      "source": [
        "From the above plot we can clearly see that there is equal chance of suffering from heart attack"
      ]
    },
    {
      "cell_type": "code",
      "execution_count": null,
      "metadata": {
        "colab": {
          "base_uri": "https://localhost:8080/",
          "height": 427
        },
        "id": "pe-Ph0w5MKoT",
        "outputId": "db8e309c-481f-471f-b55b-33464a0877bd"
      },
      "outputs": [
        {
          "data": {
            "image/png": "[encoded data removed]",
            "text/plain": [
              "<Figure size 1000x600 with 1 Axes>"
            ]
          },
          "metadata": {},
          "output_type": "display_data"
        }
      ],
      "source": [
        "plt.figure(figsize=(10, 6))\n",
        "sns.histplot(df['Cholesterol_Level'], kde=True)\n",
        "plt.title('Distribution of Cholesterol')\n",
        "plt.xlabel('Cholesterol')\n",
        "plt.ylabel('Frequency')\n",
        "plt.show()"
      ]
    },
    {
      "cell_type": "markdown",
      "metadata": {
        "id": "7BE7kZO4MQbl"
      },
      "source": [
        "The histogram shows a relatively even distribution of cholesterol levels, with a slight peak in the mid range, suggesting that most individuals in this dataset have cholesterol levels within a moderate range."
      ]
    },
    {
      "cell_type": "markdown",
      "metadata": {
        "id": "KT8mqHbtMhT7"
      },
      "source": [
        "## EDA with respect to cholestrol level"
      ]
    },
    {
      "cell_type": "code",
      "execution_count": null,
      "metadata": {
        "colab": {
          "base_uri": "https://localhost:8080/",
          "height": 487
        },
        "id": "5t57ksdAMjRC",
        "outputId": "5d69d5d2-298d-43ed-9f54-bc68dc1a1c87"
      },
      "outputs": [
        {
          "data": {
            "image/png": "[encoded data removed]",
            "text/plain": [
              "<Figure size 700x500 with 1 Axes>"
            ]
          },
          "metadata": {},
          "output_type": "display_data"
        }
      ],
      "source": [
        "plt.figure(figsize=(7, 5))\n",
        "sns.boxplot(data=df, x=\"Gender\", y=\"Cholesterol_Level\", palette=\"pastel\")\n",
        "plt.title(\"Cholesterol Level by Gender\")\n",
        "plt.xlabel(\"Gender\")\n",
        "plt.ylabel(\"Cholesterol Level\")\n",
        "plt.show()"
      ]
    },
    {
      "cell_type": "markdown",
      "metadata": {
        "id": "atVxIQdVMq25"
      },
      "source": [
        "Cholesterol levels are comparable between males and females, with similar medians and interquartile ranges."
      ]
    },
    {
      "cell_type": "code",
      "execution_count": null,
      "metadata": {
        "colab": {
          "base_uri": "https://localhost:8080/",
          "height": 487
        },
        "id": "ZPA344ybMrwh",
        "outputId": "232b12c0-f66a-4b03-f314-a05fe95b4c20"
      },
      "outputs": [
        {
          "data": {
            "image/png": "[encoded data removed]",
            "text/plain": [
              "<Figure size 700x500 with 1 Axes>"
            ]
          },
          "metadata": {},
          "output_type": "display_data"
        }
      ],
      "source": [
        "plt.figure(figsize=(7, 5))\n",
        "sns.boxplot(data=df, x=\"Smoking\", y=\"Cholesterol_Level\", palette=\"Set2\")\n",
        "plt.title(\"Smoking vs Cholesterol Level\")\n",
        "plt.xlabel(\"Smoking (0 = No, 1 = Yes)\")\n",
        "plt.ylabel(\"Cholesterol Level\")\n",
        "plt.show()"
      ]
    },
    {
      "cell_type": "markdown",
      "metadata": {
        "id": "pjAFyEYHM0cK"
      },
      "source": [
        "Cholesterol levels are comparable between smoking and non smoking, with similar medians and interquartile ranges."
      ]
    },
    {
      "cell_type": "code",
      "execution_count": null,
      "metadata": {
        "colab": {
          "base_uri": "https://localhost:8080/",
          "height": 373
        },
        "id": "IEFwqRLoM1Xe",
        "outputId": "52285400-0b72-4a30-ebb2-d2b94a6a22bd"
      },
      "outputs": [
        {
          "data": {
            "image/png": "[encoded data removed]",
            "text/plain": [
              "<Figure size 1000x500 with 1 Axes>"
            ]
          },
          "metadata": {},
          "output_type": "display_data"
        }
      ],
      "source": [
        "plt.figure(figsize=(10, 5))\n",
        "df['BMI'] = pd.cut(df['BMI'], bins=[0, 18.5, 24.9, 29.9, 40],\n",
        "                            labels=[\"Underweight\", \"Normal\", \"Overweight\", \"Obese\"])\n",
        "sns.boxplot(data=df, x=\"BMI\", y=\"Cholesterol_Level\", palette=\"coolwarm\")\n",
        "plt.title(\"Cholesterol Levels Across BMI Categories\")\n",
        "plt.xlabel(\"BMI Category\")\n",
        "plt.ylabel(\"Cholesterol Level\")\n",
        "plt.show()\n"
      ]
    },
    {
      "cell_type": "markdown",
      "metadata": {
        "id": "0UbHNw8PM-kT"
      },
      "source": [
        "Cholesterol levels show minimal variation across different BMI categories, with similar medians and ranges."
      ]
    },
    {
      "cell_type": "code",
      "execution_count": null,
      "metadata": {
        "colab": {
          "base_uri": "https://localhost:8080/",
          "height": 487
        },
        "id": "MaOQq1A2M_T5",
        "outputId": "3413dea3-2add-44d7-cb81-d3a2c366a5dd"
      },
      "outputs": [
        {
          "data": {
            "image/png": "[encoded data removed]",
            "text/plain": [
              "<Figure size 700x500 with 1 Axes>"
            ]
          },
          "metadata": {},
          "output_type": "display_data"
        }
      ],
      "source": [
        "plt.figure(figsize=(7, 5))\n",
        "sns.barplot(data=df, x=\"Diabetes\", y=\"Cholesterol_Level\", palette=\"Set1\")\n",
        "plt.title(\"Diabetes vs Cholesterol Level\")\n",
        "plt.xlabel(\"Diabetes (0 = No, 1 = Yes)\")\n",
        "plt.ylabel(\"Cholesterol Level\")\n",
        "plt.show()"
      ]
    },
    {
      "cell_type": "markdown",
      "metadata": {
        "id": "peMSxIHnNFkp"
      },
      "source": [
        "Cholesterol levels appear similar regardless of diabetes status, with no significant difference between diabetic and non-diabetic groups."
      ]
    },
    {
      "cell_type": "code",
      "execution_count": null,
      "metadata": {
        "colab": {
          "base_uri": "https://localhost:8080/",
          "height": 426
        },
        "id": "HNZflwuVNoDI",
        "outputId": "98040893-0db5-4c04-9053-0846c58d1ad9"
      },
      "outputs": [
        {
          "data": {
            "image/png": "[encoded data removed]",
            "text/plain": [
              "<Figure size 1000x600 with 1 Axes>"
            ]
          },
          "metadata": {},
          "output_type": "display_data"
        }
      ],
      "source": [
        "age_gender_group = df.groupby(['Age', 'Gender'])['Cholesterol_Level'].mean().reset_index()\n",
        "\n",
        "# Plot the mean Cholesterol Level by Age and Gender using a line plot\n",
        "plt.figure(figsize=(10, 6))\n",
        "sns.lineplot(x='Age', y='Cholesterol_Level', hue='Gender', data=age_gender_group, marker='o', palette='Set1')\n",
        "plt.title('Mean Cholesterol Level by Age and Gender')\n",
        "plt.xlabel('Age')\n",
        "plt.ylabel('Mean Cholesterol Level')\n",
        "plt.legend(title='Gender')\n",
        "plt.show()\n"
      ]
    },
    {
      "cell_type": "markdown",
      "metadata": {
        "id": "sNdJUHBKNuBG"
      },
      "source": [
        "Mean cholesterol levels fluctuate across age groups without a clear trend, and differences between males and females are minimal overall."
      ]
    },
    {
      "cell_type": "code",
      "execution_count": null,
      "metadata": {
        "colab": {
          "base_uri": "https://localhost:8080/"
        },
        "id": "K_fSgGwyNumd",
        "outputId": "3352f329-edec-439d-db39-f8b875560ad4"
      },
      "outputs": [
        {
          "name": "stdout",
          "output_type": "stream",
          "text": [
            "Mean Cholesterol Level by Alcohol Consumption:\n",
            "Alcohol_Consumption\n",
            "0    224.998667\n",
            "1    224.849716\n",
            "Name: Cholesterol_Level, dtype: float64\n",
            "T-test result: t-statistic = 0.32, p-value = 0.7522\n",
            "There is no significant difference in Cholesterol Levels based on alcohol consumption.\n"
          ]
        }
      ],
      "source": [
        "from scipy import stats\n",
        "mean_cholesterol_by_alcohol = df.groupby('Alcohol_Consumption')['Cholesterol_Level'].mean()\n",
        "print(\"Mean Cholesterol Level by Alcohol Consumption:\")\n",
        "print(mean_cholesterol_by_alcohol)\n",
        "\n",
        "# Perform a t-test to assess if there is a significant difference in Cholesterol Levels\n",
        "group_no_alcohol = df[df['Alcohol_Consumption'] == 0]['Cholesterol_Level']\n",
        "group_alcohol = df[df['Alcohol_Consumption'] == 1]['Cholesterol_Level']\n",
        "\n",
        "t_stat, p_value = stats.ttest_ind(group_no_alcohol, group_alcohol)\n",
        "print(f\"T-test result: t-statistic = {t_stat:.2f}, p-value = {p_value:.4f}\")\n",
        "\n",
        "# Interpret the p-value\n",
        "if p_value < 0.05:\n",
        "    print(\"There is a significant difference in Cholesterol Levels based on alcohol consumption.\")\n",
        "else:\n",
        "    print(\"There is no significant difference in Cholesterol Levels based on alcohol consumption.\")"
      ]
    },
    {
      "cell_type": "code",
      "execution_count": null,
      "metadata": {
        "id": "rwRdsBqhN3PE"
      },
      "outputs": [],
      "source": [
        "# categoriacl column which is needed for encoding\n",
        "columns_to_encode = ['Gender', 'Physical_Activity_Level', 'Stress_Level',\n",
        "                       'Chest_Pain_Type', 'Thalassemia', 'ECG_Results',\n",
        "                       'Heart_Attack_Risk']\n"
      ]
    },
    {
      "cell_type": "code",
      "execution_count": null,
      "metadata": {
        "id": "ZzDOMLEDN5lm"
      },
      "outputs": [],
      "source": [
        "df.drop(columns=['BMI'],inplace=True)"
      ]
    },
    {
      "cell_type": "code",
      "execution_count": null,
      "metadata": {
        "id": "8JFO0l4AN7o8"
      },
      "outputs": [],
      "source": [
        "# Convering categorical data into numerical\n",
        "label_encoders = {}\n",
        "\n",
        "for col in columns_to_encode:\n",
        "    le = LabelEncoder()\n",
        "    df[col] = le.fit_transform(df[col])\n",
        "    label_encoders[col] = le"
      ]
    },
    {
      "cell_type": "code",
      "execution_count": null,
      "metadata": {
        "colab": {
          "base_uri": "https://localhost:8080/",
          "height": 226
        },
        "id": "STl78RCRN-bt",
        "outputId": "6be7dd0e-6023-4ba9-8e05-a7efb79fde6f"
      },
      "outputs": [
        {
          "data": {
            "application/vnd.google.colaboratory.intrinsic+json": {
              "summary": "{\n  \"name\": \"df\",\n  \"rows\": 35096,\n  \"fields\": [\n    {\n      \"column\": \"Age\",\n      \"properties\": {\n        \"dtype\": \"number\",\n        \"std\": 20,\n        \"min\": 18,\n        \"max\": 89,\n        \"num_unique_values\": 72,\n        \"samples\": [\n          20,\n          74,\n          68\n        ],\n        \"semantic_type\": \"\",\n        \"description\": \"\"\n      }\n    },\n    {\n      \"column\": \"Gender\",\n      \"properties\": {\n        \"dtype\": \"number\",\n        \"std\": 0,\n        \"min\": 0,\n        \"max\": 1,\n        \"num_unique_values\": 2,\n        \"samples\": [\n          1,\n          0\n        ],\n        \"semantic_type\": \"\",\n        \"description\": \"\"\n      }\n    },\n    {\n      \"column\": \"Smoking\",\n      \"properties\": {\n        \"dtype\": \"number\",\n        \"std\": 0,\n        \"min\": 0,\n        \"max\": 1,\n        \"num_unique_values\": 2,\n        \"samples\": [\n          0,\n          1\n        ],\n        \"semantic_type\": \"\",\n        \"description\": \"\"\n      }\n    },\n    {\n      \"column\": \"Alcohol_Consumption\",\n      \"properties\": {\n        \"dtype\": \"number\",\n        \"std\": 0,\n        \"min\": 0,\n        \"max\": 1,\n        \"num_unique_values\": 2,\n        \"samples\": [\n          1,\n          0\n        ],\n        \"semantic_type\": \"\",\n        \"description\": \"\"\n      }\n    },\n    {\n      \"column\": \"Physical_Activity_Level\",\n      \"properties\": {\n        \"dtype\": \"number\",\n        \"std\": 0,\n        \"min\": 0,\n        \"max\": 2,\n        \"num_unique_values\": 3,\n        \"samples\": [\n          2,\n          1\n        ],\n        \"semantic_type\": \"\",\n        \"description\": \"\"\n      }\n    },\n    {\n      \"column\": \"Diabetes\",\n      \"properties\": {\n        \"dtype\": \"number\",\n        \"std\": 0,\n        \"min\": 0,\n        \"max\": 1,\n        \"num_unique_values\": 2,\n        \"samples\": [\n          0,\n          1\n        ],\n        \"semantic_type\": \"\",\n        \"description\": \"\"\n      }\n    },\n    {\n      \"column\": \"Hypertension\",\n      \"properties\": {\n        \"dtype\": \"number\",\n        \"std\": 0,\n        \"min\": 0,\n        \"max\": 1,\n        \"num_unique_values\": 2,\n        \"samples\": [\n          1,\n          0\n        ],\n        \"semantic_type\": \"\",\n        \"description\": \"\"\n      }\n    },\n    {\n      \"column\": \"Cholesterol_Level\",\n      \"properties\": {\n        \"dtype\": \"number\",\n        \"std\": 43.32202988077765,\n        \"min\": 150.0,\n        \"max\": 300.0,\n        \"num_unique_values\": 1501,\n        \"samples\": [\n          208.4,\n          296.2\n        ],\n        \"semantic_type\": \"\",\n        \"description\": \"\"\n      }\n    },\n    {\n      \"column\": \"Resting_BP\",\n      \"properties\": {\n        \"dtype\": \"number\",\n        \"std\": 25,\n        \"min\": 90,\n        \"max\": 179,\n        \"num_unique_values\": 90,\n        \"samples\": [\n          148,\n          112\n        ],\n        \"semantic_type\": \"\",\n        \"description\": \"\"\n      }\n    },\n    {\n      \"column\": \"Heart_Rate\",\n      \"properties\": {\n        \"dtype\": \"number\",\n        \"std\": 20,\n        \"min\": 60,\n        \"max\": 129,\n        \"num_unique_values\": 70,\n        \"samples\": [\n          104,\n          85\n        ],\n        \"semantic_type\": \"\",\n        \"description\": \"\"\n      }\n    },\n    {\n      \"column\": \"Family_History\",\n      \"properties\": {\n        \"dtype\": \"number\",\n        \"std\": 0,\n        \"min\": 0,\n        \"max\": 1,\n        \"num_unique_values\": 2,\n        \"samples\": [\n          1,\n          0\n        ],\n        \"semantic_type\": \"\",\n        \"description\": \"\"\n      }\n    },\n    {\n      \"column\": \"Stress_Level\",\n      \"properties\": {\n        \"dtype\": \"number\",\n        \"std\": 0,\n        \"min\": 0,\n        \"max\": 2,\n        \"num_unique_values\": 3,\n        \"samples\": [\n          2,\n          1\n        ],\n        \"semantic_type\": \"\",\n        \"description\": \"\"\n      }\n    },\n    {\n      \"column\": \"Chest_Pain_Type\",\n      \"properties\": {\n        \"dtype\": \"number\",\n        \"std\": 1,\n        \"min\": 0,\n        \"max\": 3,\n        \"num_unique_values\": 4,\n        \"samples\": [\n          3,\n          0\n        ],\n        \"semantic_type\": \"\",\n        \"description\": \"\"\n      }\n    },\n    {\n      \"column\": \"Thalassemia\",\n      \"properties\": {\n        \"dtype\": \"number\",\n        \"std\": 0,\n        \"min\": 0,\n        \"max\": 2,\n        \"num_unique_values\": 3,\n        \"samples\": [\n          2,\n          0\n        ],\n        \"semantic_type\": \"\",\n        \"description\": \"\"\n      }\n    },\n    {\n      \"column\": \"Fasting_Blood_Sugar\",\n      \"properties\": {\n        \"dtype\": \"number\",\n        \"std\": 0,\n        \"min\": 0,\n        \"max\": 1,\n        \"num_unique_values\": 2,\n        \"samples\": [\n          1,\n          0\n        ],\n        \"semantic_type\": \"\",\n        \"description\": \"\"\n      }\n    },\n    {\n      \"column\": \"ECG_Results\",\n      \"properties\": {\n        \"dtype\": \"number\",\n        \"std\": 0,\n        \"min\": 0,\n        \"max\": 2,\n        \"num_unique_values\": 3,\n        \"samples\": [\n          1,\n          2\n        ],\n        \"semantic_type\": \"\",\n        \"description\": \"\"\n      }\n    },\n    {\n      \"column\": \"Exercise_Induced_Angina\",\n      \"properties\": {\n        \"dtype\": \"number\",\n        \"std\": 0,\n        \"min\": 0,\n        \"max\": 1,\n        \"num_unique_values\": 2,\n        \"samples\": [\n          1,\n          0\n        ],\n        \"semantic_type\": \"\",\n        \"description\": \"\"\n      }\n    },\n    {\n      \"column\": \"Max_Heart_Rate_Achieved\",\n      \"properties\": {\n        \"dtype\": \"number\",\n        \"std\": 28,\n        \"min\": 100,\n        \"max\": 199,\n        \"num_unique_values\": 100,\n        \"samples\": [\n          125,\n          189\n        ],\n        \"semantic_type\": \"\",\n        \"description\": \"\"\n      }\n    },\n    {\n      \"column\": \"Heart_Attack_Risk\",\n      \"properties\": {\n        \"dtype\": \"number\",\n        \"std\": 0,\n        \"min\": 0,\n        \"max\": 1,\n        \"num_unique_values\": 2,\n        \"samples\": [\n          0,\n          1\n        ],\n        \"semantic_type\": \"\",\n        \"description\": \"\"\n      }\n    }\n  ]\n}",
              "type": "dataframe",
              "variable_name": "df"
            },
            "text/html": [
              "\n",
              "  <div id=\"df-622dddef-4d7b-48b4-b220-76de81a1aad7\" class=\"colab-df-container\">\n",
              "    <div>\n",
              "<style scoped>\n",
              "    .dataframe tbody tr th:only-of-type {\n",
              "        vertical-align: middle;\n",
              "    }\n",
              "\n",
              "    .dataframe tbody tr th {\n",
              "        vertical-align: top;\n",
              "    }\n",
              "\n",
              "    .dataframe thead th {\n",
              "        text-align: right;\n",
              "    }\n",
              "</style>\n",
              "<table border=\"1\" class=\"dataframe\">\n",
              "  <thead>\n",
              "    <tr style=\"text-align: right;\">\n",
              "      <th></th>\n",
              "      <th>Age</th>\n",
              "      <th>Gender</th>\n",
              "      <th>Smoking</th>\n",
              "      <th>Alcohol_Consumption</th>\n",
              "      <th>Physical_Activity_Level</th>\n",
              "      <th>Diabetes</th>\n",
              "      <th>Hypertension</th>\n",
              "      <th>Cholesterol_Level</th>\n",
              "      <th>Resting_BP</th>\n",
              "      <th>Heart_Rate</th>\n",
              "      <th>Family_History</th>\n",
              "      <th>Stress_Level</th>\n",
              "      <th>Chest_Pain_Type</th>\n",
              "      <th>Thalassemia</th>\n",
              "      <th>Fasting_Blood_Sugar</th>\n",
              "      <th>ECG_Results</th>\n",
              "      <th>Exercise_Induced_Angina</th>\n",
              "      <th>Max_Heart_Rate_Achieved</th>\n",
              "      <th>Heart_Attack_Risk</th>\n",
              "    </tr>\n",
              "  </thead>\n",
              "  <tbody>\n",
              "    <tr>\n",
              "      <th>0</th>\n",
              "      <td>69</td>\n",
              "      <td>0</td>\n",
              "      <td>1</td>\n",
              "      <td>0</td>\n",
              "      <td>2</td>\n",
              "      <td>1</td>\n",
              "      <td>0</td>\n",
              "      <td>152.1</td>\n",
              "      <td>171</td>\n",
              "      <td>85</td>\n",
              "      <td>0</td>\n",
              "      <td>2</td>\n",
              "      <td>2</td>\n",
              "      <td>2</td>\n",
              "      <td>0</td>\n",
              "      <td>1</td>\n",
              "      <td>0</td>\n",
              "      <td>114</td>\n",
              "      <td>1</td>\n",
              "    </tr>\n",
              "    <tr>\n",
              "      <th>2</th>\n",
              "      <td>89</td>\n",
              "      <td>1</td>\n",
              "      <td>0</td>\n",
              "      <td>1</td>\n",
              "      <td>2</td>\n",
              "      <td>0</td>\n",
              "      <td>0</td>\n",
              "      <td>272.3</td>\n",
              "      <td>123</td>\n",
              "      <td>127</td>\n",
              "      <td>0</td>\n",
              "      <td>1</td>\n",
              "      <td>3</td>\n",
              "      <td>2</td>\n",
              "      <td>0</td>\n",
              "      <td>2</td>\n",
              "      <td>0</td>\n",
              "      <td>109</td>\n",
              "      <td>1</td>\n",
              "    </tr>\n",
              "    <tr>\n",
              "      <th>3</th>\n",
              "      <td>78</td>\n",
              "      <td>1</td>\n",
              "      <td>0</td>\n",
              "      <td>1</td>\n",
              "      <td>2</td>\n",
              "      <td>1</td>\n",
              "      <td>0</td>\n",
              "      <td>237.7</td>\n",
              "      <td>144</td>\n",
              "      <td>125</td>\n",
              "      <td>0</td>\n",
              "      <td>1</td>\n",
              "      <td>3</td>\n",
              "      <td>0</td>\n",
              "      <td>1</td>\n",
              "      <td>0</td>\n",
              "      <td>0</td>\n",
              "      <td>129</td>\n",
              "      <td>1</td>\n",
              "    </tr>\n",
              "    <tr>\n",
              "      <th>5</th>\n",
              "      <td>41</td>\n",
              "      <td>1</td>\n",
              "      <td>0</td>\n",
              "      <td>1</td>\n",
              "      <td>2</td>\n",
              "      <td>0</td>\n",
              "      <td>0</td>\n",
              "      <td>271.2</td>\n",
              "      <td>141</td>\n",
              "      <td>119</td>\n",
              "      <td>0</td>\n",
              "      <td>1</td>\n",
              "      <td>1</td>\n",
              "      <td>0</td>\n",
              "      <td>0</td>\n",
              "      <td>1</td>\n",
              "      <td>0</td>\n",
              "      <td>101</td>\n",
              "      <td>0</td>\n",
              "    </tr>\n",
              "    <tr>\n",
              "      <th>6</th>\n",
              "      <td>20</td>\n",
              "      <td>1</td>\n",
              "      <td>1</td>\n",
              "      <td>0</td>\n",
              "      <td>1</td>\n",
              "      <td>0</td>\n",
              "      <td>0</td>\n",
              "      <td>164.8</td>\n",
              "      <td>154</td>\n",
              "      <td>67</td>\n",
              "      <td>0</td>\n",
              "      <td>1</td>\n",
              "      <td>2</td>\n",
              "      <td>1</td>\n",
              "      <td>0</td>\n",
              "      <td>1</td>\n",
              "      <td>0</td>\n",
              "      <td>176</td>\n",
              "      <td>1</td>\n",
              "    </tr>\n",
              "  </tbody>\n",
              "</table>\n",
              "</div>\n",
              "    <div class=\"colab-df-buttons\">\n",
              "\n",
              "  <div class=\"colab-df-container\">\n",
              "    <button class=\"colab-df-convert\" onclick=\"convertToInteractive('df-622dddef-4d7b-48b4-b220-76de81a1aad7')\"\n",
              "            title=\"Convert this dataframe to an interactive table.\"\n",
              "            style=\"display:none;\">\n",
              "\n",
              "  <svg xmlns=\"http://www.w3.org/2000/svg\" height=\"24px\" viewBox=\"0 -960 960 960\">\n",
              "    <path d=\"M120-120v-720h720v720H120Zm60-500h600v-160H180v160Zm220 220h160v-160H400v160Zm0 220h160v-160H400v160ZM180-400h160v-160H180v160Zm440 0h160v-160H620v160ZM180-180h160v-160H180v160Zm440 0h160v-160H620v160Z\"/>\n",
              "  </svg>\n",
              "    </button>\n",
              "\n",
              "  <style>\n",
              "    .colab-df-container {\n",
              "      display:flex;\n",
              "      gap: 12px;\n",
              "    }\n",
              "\n",
              "    .colab-df-convert {\n",
              "      background-color: #E8F0FE;\n",
              "      border: none;\n",
              "      border-radius: 50%;\n",
              "      cursor: pointer;\n",
              "      display: none;\n",
              "      fill: #1967D2;\n",
              "      height: 32px;\n",
              "      padding: 0 0 0 0;\n",
              "      width: 32px;\n",
              "    }\n",
              "\n",
              "    .colab-df-convert:hover {\n",
              "      background-color: #E2EBFA;\n",
              "      box-shadow: 0px 1px 2px rgba(60, 64, 67, 0.3), 0px 1px 3px 1px rgba(60, 64, 67, 0.15);\n",
              "      fill: #174EA6;\n",
              "    }\n",
              "\n",
              "    .colab-df-buttons div {\n",
              "      margin-bottom: 4px;\n",
              "    }\n",
              "\n",
              "    [theme=dark] .colab-df-convert {\n",
              "      background-color: #3B4455;\n",
              "      fill: #D2E3FC;\n",
              "    }\n",
              "\n",
              "    [theme=dark] .colab-df-convert:hover {\n",
              "      background-color: #434B5C;\n",
              "      box-shadow: 0px 1px 3px 1px rgba(0, 0, 0, 0.15);\n",
              "      filter: drop-shadow(0px 1px 2px rgba(0, 0, 0, 0.3));\n",
              "      fill: #FFFFFF;\n",
              "    }\n",
              "  </style>\n",
              "\n",
              "    <script>\n",
              "      const buttonEl =\n",
              "        document.querySelector('#df-622dddef-4d7b-48b4-b220-76de81a1aad7 button.colab-df-convert');\n",
              "      buttonEl.style.display =\n",
              "        google.colab.kernel.accessAllowed ? 'block' : 'none';\n",
              "\n",
              "      async function convertToInteractive(key) {\n",
              "        const element = document.querySelector('#df-622dddef-4d7b-48b4-b220-76de81a1aad7');\n",
              "        const dataTable =\n",
              "          await google.colab.kernel.invokeFunction('convertToInteractive',\n",
              "                                                    [key], {});\n",
              "        if (!dataTable) return;\n",
              "\n",
              "        const docLinkHtml = 'Like what you see? Visit the ' +\n",
              "          '<a target=\"_blank\" href=https://colab.research.google.com/notebooks/data_table.ipynb>data table notebook</a>'\n",
              "          + ' to learn more about interactive tables.';\n",
              "        element.innerHTML = '';\n",
              "        dataTable['output_type'] = 'display_data';\n",
              "        await google.colab.output.renderOutput(dataTable, element);\n",
              "        const docLink = document.createElement('div');\n",
              "        docLink.innerHTML = docLinkHtml;\n",
              "        element.appendChild(docLink);\n",
              "      }\n",
              "    </script>\n",
              "  </div>\n",
              "\n",
              "\n",
              "<div id=\"df-5b964125-5c5d-4334-a16c-e6a9b102c8bf\">\n",
              "  <button class=\"colab-df-quickchart\" onclick=\"quickchart('df-5b964125-5c5d-4334-a16c-e6a9b102c8bf')\"\n",
              "            title=\"Suggest charts\"\n",
              "            style=\"display:none;\">\n",
              "\n",
              "<svg xmlns=\"http://www.w3.org/2000/svg\" height=\"24px\"viewBox=\"0 0 24 24\"\n",
              "     width=\"24px\">\n",
              "    <g>\n",
              "        <path d=\"M19 3H5c-1.1 0-2 .9-2 2v14c0 1.1.9 2 2 2h14c1.1 0 2-.9 2-2V5c0-1.1-.9-2-2-2zM9 17H7v-7h2v7zm4 0h-2V7h2v10zm4 0h-2v-4h2v4z\"/>\n",
              "    </g>\n",
              "</svg>\n",
              "  </button>\n",
              "\n",
              "<style>\n",
              "  .colab-df-quickchart {\n",
              "      --bg-color: #E8F0FE;\n",
              "      --fill-color: #1967D2;\n",
              "      --hover-bg-color: #E2EBFA;\n",
              "      --hover-fill-color: #174EA6;\n",
              "      --disabled-fill-color: #AAA;\n",
              "      --disabled-bg-color: #DDD;\n",
              "  }\n",
              "\n",
              "  [theme=dark] .colab-df-quickchart {\n",
              "      --bg-color: #3B4455;\n",
              "      --fill-color: #D2E3FC;\n",
              "      --hover-bg-color: #434B5C;\n",
              "      --hover-fill-color: #FFFFFF;\n",
              "      --disabled-bg-color: #3B4455;\n",
              "      --disabled-fill-color: #666;\n",
              "  }\n",
              "\n",
              "  .colab-df-quickchart {\n",
              "    background-color: var(--bg-color);\n",
              "    border: none;\n",
              "    border-radius: 50%;\n",
              "    cursor: pointer;\n",
              "    display: none;\n",
              "    fill: var(--fill-color);\n",
              "    height: 32px;\n",
              "    padding: 0;\n",
              "    width: 32px;\n",
              "  }\n",
              "\n",
              "  .colab-df-quickchart:hover {\n",
              "    background-color: var(--hover-bg-color);\n",
              "    box-shadow: 0 1px 2px rgba(60, 64, 67, 0.3), 0 1px 3px 1px rgba(60, 64, 67, 0.15);\n",
              "    fill: var(--button-hover-fill-color);\n",
              "  }\n",
              "\n",
              "  .colab-df-quickchart-complete:disabled,\n",
              "  .colab-df-quickchart-complete:disabled:hover {\n",
              "    background-color: var(--disabled-bg-color);\n",
              "    fill: var(--disabled-fill-color);\n",
              "    box-shadow: none;\n",
              "  }\n",
              "\n",
              "  .colab-df-spinner {\n",
              "    border: 2px solid var(--fill-color);\n",
              "    border-color: transparent;\n",
              "    border-bottom-color: var(--fill-color);\n",
              "    animation:\n",
              "      spin 1s steps(1) infinite;\n",
              "  }\n",
              "\n",
              "  @keyframes spin {\n",
              "    0% {\n",
              "      border-color: transparent;\n",
              "      border-bottom-color: var(--fill-color);\n",
              "      border-left-color: var(--fill-color);\n",
              "    }\n",
              "    20% {\n",
              "      border-color: transparent;\n",
              "      border-left-color: var(--fill-color);\n",
              "      border-top-color: var(--fill-color);\n",
              "    }\n",
              "    30% {\n",
              "      border-color: transparent;\n",
              "      border-left-color: var(--fill-color);\n",
              "      border-top-color: var(--fill-color);\n",
              "      border-right-color: var(--fill-color);\n",
              "    }\n",
              "    40% {\n",
              "      border-color: transparent;\n",
              "      border-right-color: var(--fill-color);\n",
              "      border-top-color: var(--fill-color);\n",
              "    }\n",
              "    60% {\n",
              "      border-color: transparent;\n",
              "      border-right-color: var(--fill-color);\n",
              "    }\n",
              "    80% {\n",
              "      border-color: transparent;\n",
              "      border-right-color: var(--fill-color);\n",
              "      border-bottom-color: var(--fill-color);\n",
              "    }\n",
              "    90% {\n",
              "      border-color: transparent;\n",
              "      border-bottom-color: var(--fill-color);\n",
              "    }\n",
              "  }\n",
              "</style>\n",
              "\n",
              "  <script>\n",
              "    async function quickchart(key) {\n",
              "      const quickchartButtonEl =\n",
              "        document.querySelector('#' + key + ' button');\n",
              "      quickchartButtonEl.disabled = true;  // To prevent multiple clicks.\n",
              "      quickchartButtonEl.classList.add('colab-df-spinner');\n",
              "      try {\n",
              "        const charts = await google.colab.kernel.invokeFunction(\n",
              "            'suggestCharts', [key], {});\n",
              "      } catch (error) {\n",
              "        console.error('Error during call to suggestCharts:', error);\n",
              "      }\n",
              "      quickchartButtonEl.classList.remove('colab-df-spinner');\n",
              "      quickchartButtonEl.classList.add('colab-df-quickchart-complete');\n",
              "    }\n",
              "    (() => {\n",
              "      let quickchartButtonEl =\n",
              "        document.querySelector('#df-5b964125-5c5d-4334-a16c-e6a9b102c8bf button');\n",
              "      quickchartButtonEl.style.display =\n",
              "        google.colab.kernel.accessAllowed ? 'block' : 'none';\n",
              "    })();\n",
              "  </script>\n",
              "</div>\n",
              "\n",
              "    </div>\n",
              "  </div>\n"
            ],
            "text/plain": [
              "   Age  Gender  Smoking  Alcohol_Consumption  Physical_Activity_Level  \\\n",
              "0   69       0        1                    0                        2   \n",
              "2   89       1        0                    1                        2   \n",
              "3   78       1        0                    1                        2   \n",
              "5   41       1        0                    1                        2   \n",
              "6   20       1        1                    0                        1   \n",
              "\n",
              "   Diabetes  Hypertension  Cholesterol_Level  Resting_BP  Heart_Rate  \\\n",
              "0         1             0              152.1         171          85   \n",
              "2         0             0              272.3         123         127   \n",
              "3         1             0              237.7         144         125   \n",
              "5         0             0              271.2         141         119   \n",
              "6         0             0              164.8         154          67   \n",
              "\n",
              "   Family_History  Stress_Level  Chest_Pain_Type  Thalassemia  \\\n",
              "0               0             2                2            2   \n",
              "2               0             1                3            2   \n",
              "3               0             1                3            0   \n",
              "5               0             1                1            0   \n",
              "6               0             1                2            1   \n",
              "\n",
              "   Fasting_Blood_Sugar  ECG_Results  Exercise_Induced_Angina  \\\n",
              "0                    0            1                        0   \n",
              "2                    0            2                        0   \n",
              "3                    1            0                        0   \n",
              "5                    0            1                        0   \n",
              "6                    0            1                        0   \n",
              "\n",
              "   Max_Heart_Rate_Achieved  Heart_Attack_Risk  \n",
              "0                      114                  1  \n",
              "2                      109                  1  \n",
              "3                      129                  1  \n",
              "5                      101                  0  \n",
              "6                      176                  1  "
            ]
          },
          "execution_count": 79,
          "metadata": {},
          "output_type": "execute_result"
        }
      ],
      "source": [
        "\n",
        "df.head()"
      ]
    },
    {
      "cell_type": "code",
      "execution_count": null,
      "metadata": {
        "id": "8Yz0DtGZOLA6"
      },
      "outputs": [],
      "source": [
        "# Spliting into independence and target variables\n",
        "X=df.drop(columns=['Cholesterol_Level'])\n",
        "y=df['Cholesterol_Level']"
      ]
    },
    {
      "cell_type": "code",
      "execution_count": null,
      "metadata": {
        "colab": {
          "base_uri": "https://localhost:8080/",
          "height": 458
        },
        "id": "KSnVGvtuONUK",
        "outputId": "c929f11d-0d6d-4d0e-8454-a6d077925df2"
      },
      "outputs": [
        {
          "data": {
            "text/html": [
              "<div>\n",
              "<style scoped>\n",
              "    .dataframe tbody tr th:only-of-type {\n",
              "        vertical-align: middle;\n",
              "    }\n",
              "\n",
              "    .dataframe tbody tr th {\n",
              "        vertical-align: top;\n",
              "    }\n",
              "\n",
              "    .dataframe thead th {\n",
              "        text-align: right;\n",
              "    }\n",
              "</style>\n",
              "<table border=\"1\" class=\"dataframe\">\n",
              "  <thead>\n",
              "    <tr style=\"text-align: right;\">\n",
              "      <th></th>\n",
              "      <th>Cholesterol_Level</th>\n",
              "    </tr>\n",
              "  </thead>\n",
              "  <tbody>\n",
              "    <tr>\n",
              "      <th>0</th>\n",
              "      <td>152.1</td>\n",
              "    </tr>\n",
              "    <tr>\n",
              "      <th>2</th>\n",
              "      <td>272.3</td>\n",
              "    </tr>\n",
              "    <tr>\n",
              "      <th>3</th>\n",
              "      <td>237.7</td>\n",
              "    </tr>\n",
              "    <tr>\n",
              "      <th>5</th>\n",
              "      <td>271.2</td>\n",
              "    </tr>\n",
              "    <tr>\n",
              "      <th>6</th>\n",
              "      <td>164.8</td>\n",
              "    </tr>\n",
              "    <tr>\n",
              "      <th>...</th>\n",
              "      <td>...</td>\n",
              "    </tr>\n",
              "    <tr>\n",
              "      <th>49992</th>\n",
              "      <td>181.8</td>\n",
              "    </tr>\n",
              "    <tr>\n",
              "      <th>49993</th>\n",
              "      <td>196.7</td>\n",
              "    </tr>\n",
              "    <tr>\n",
              "      <th>49994</th>\n",
              "      <td>171.7</td>\n",
              "    </tr>\n",
              "    <tr>\n",
              "      <th>49995</th>\n",
              "      <td>269.9</td>\n",
              "    </tr>\n",
              "    <tr>\n",
              "      <th>49997</th>\n",
              "      <td>172.8</td>\n",
              "    </tr>\n",
              "  </tbody>\n",
              "</table>\n",
              "<p>35096 rows × 1 columns</p>\n",
              "</div><br><label><b>dtype:</b> float64</label>"
            ],
            "text/plain": [
              "0        152.1\n",
              "2        272.3\n",
              "3        237.7\n",
              "5        271.2\n",
              "6        164.8\n",
              "         ...  \n",
              "49992    181.8\n",
              "49993    196.7\n",
              "49994    171.7\n",
              "49995    269.9\n",
              "49997    172.8\n",
              "Name: Cholesterol_Level, Length: 35096, dtype: float64"
            ]
          },
          "execution_count": 81,
          "metadata": {},
          "output_type": "execute_result"
        }
      ],
      "source": [
        "y"
      ]
    },
    {
      "cell_type": "code",
      "execution_count": null,
      "metadata": {
        "id": "dOP1jgakOUdD"
      },
      "outputs": [],
      "source": [
        "#Scaling the data to make them in similar range\n",
        "scaler=StandardScaler()\n",
        "x_scaled=scaler.fit_transform(X)"
      ]
    },
    {
      "cell_type": "code",
      "execution_count": null,
      "metadata": {
        "id": "R_5TqjAAOXtT"
      },
      "outputs": [],
      "source": [
        "# Spliting data into training and testing\n",
        "X_train,X_test,y_train,y_test=train_test_split(x_scaled,y,test_size=0.3,random_state=42)"
      ]
    },
    {
      "cell_type": "markdown",
      "metadata": {
        "id": "aDfeV6SiOdIA"
      },
      "source": [
        "Building Primary Model For Regression using Cholestrol level as target variable"
      ]
    },
    {
      "cell_type": "code",
      "execution_count": null,
      "metadata": {
        "id": "L5eWmy0_OeLr"
      },
      "outputs": [],
      "source": [
        "#Linear Regression model from scratch\n",
        "class LinearRegression:\n",
        "    def __init__(self,L=0.001,epochs=1000,m=0,c=0):\n",
        "        self.L=L # Learning rate\n",
        "        self.epochs=epochs # Number of iterations\n",
        "        self.m=None # Slope (initialized later)\n",
        "        self.c=0 # Intercept (bias term)\n",
        "\n",
        "    def fit(self,x,y):\n",
        "        n_samples,n_features=x.shape  # Get number of samples and features\n",
        "        self.m=np.zeros(n_features)   # Initialize weights to zero\n",
        "\n",
        "        for _ in range(self.epochs):\n",
        "            y_pred = np.dot(x, self.m) + self.c\n",
        "\n",
        "           # Compute gradients\n",
        "            d_m = (-2/n_samples) * np.dot(x.T, (y - y_pred))\n",
        "            d_c = (-2/n_samples) * np.sum(y - y_pred)\n",
        "\n",
        "            # Update parameters using gradient descent\n",
        "            self.m -= self.L * d_m\n",
        "            self.c -= self.L * d_c\n",
        "\n",
        "    def predict(self,x):\n",
        "        return np.dot(x, self.m) + self.c"
      ]
    },
    {
      "cell_type": "markdown",
      "metadata": {
        "id": "ieTJ4j6JOjU0"
      },
      "source": [
        "Train Base model\n"
      ]
    },
    {
      "cell_type": "code",
      "execution_count": null,
      "metadata": {
        "id": "2h1pAmM9Oj_V"
      },
      "outputs": [],
      "source": [
        "lr=LinearRegression()\n",
        "lr.fit(X_train,y_train)\n",
        "y_pred_lr=lr.predict(X_test)"
      ]
    },
    {
      "cell_type": "code",
      "execution_count": null,
      "metadata": {
        "colab": {
          "base_uri": "https://localhost:8080/"
        },
        "id": "69tEmbHwOoHC",
        "outputId": "5b7bd4be-1820-4f75-e4f6-8bdc85c506c3"
      },
      "outputs": [
        {
          "name": "stdout",
          "output_type": "stream",
          "text": [
            "Result\n",
            "{'MAE': 43.6557883987985, 'RMSE': 52.857924930230816, 'R2': -0.4840111442045345}\n"
          ]
        }
      ],
      "source": [
        "results = {\n",
        "    'MAE': mean_absolute_error(y_test, y_pred_lr),\n",
        "    'RMSE': np.sqrt(mean_squared_error(y_test, y_pred_lr)),\n",
        "    'R2': r2_score(y_test, y_pred_lr)\n",
        "}\n",
        "\n",
        "print(\"Result\")\n",
        "print(results)"
      ]
    },
    {
      "cell_type": "markdown",
      "metadata": {
        "id": "d9SBb6zgO5Ls"
      },
      "source": [
        "Building Two model from sklearn"
      ]
    },
    {
      "cell_type": "markdown",
      "source": [
        "Model 1 : RandomFOrestClassifier"
      ],
      "metadata": {
        "id": "J_9wDw11PbTn"
      }
    },
    {
      "cell_type": "code",
      "execution_count": null,
      "metadata": {
        "id": "fJ56JXPhO7sL"
      },
      "outputs": [],
      "source": [
        "rf=RandomForestRegressor()\n",
        "rf.fit(X_train,y_train)\n",
        "y_pred_rf=rf.predict(X_test)"
      ]
    },
    {
      "cell_type": "code",
      "execution_count": null,
      "metadata": {
        "colab": {
          "base_uri": "https://localhost:8080/"
        },
        "id": "YXnzHuqTPAlz",
        "outputId": "6b3b9590-7ab7-40b0-8a7c-c98ed3e70874"
      },
      "outputs": [
        {
          "name": "stdout",
          "output_type": "stream",
          "text": [
            "Random Forest Result\n",
            "{'MAE': 37.91793247221958, 'RMSE': 44.00858568290481, 'R2': -0.028707168327736232}\n"
          ]
        }
      ],
      "source": [
        "# Evaluation matirx for RandomForest\n",
        "rf_results = {\n",
        "    'MAE': mean_absolute_error(y_test, y_pred_rf),\n",
        "    'RMSE': np.sqrt(mean_squared_error(y_test, y_pred_rf)),\n",
        "    'R2': r2_score(y_test, y_pred_rf)\n",
        "}\n",
        "\n",
        "print(\"Random Forest Result\")\n",
        "print(rf_results)"
      ]
    },
    {
      "cell_type": "markdown",
      "metadata": {
        "id": "PFCvKWUQPImJ"
      },
      "source": [
        "Random Forest tends to improve a little than the Linear model but also perform poorly"
      ]
    },
    {
      "cell_type": "markdown",
      "source": [
        "Model 2: SVR"
      ],
      "metadata": {
        "id": "cwRx7RatNimP"
      }
    },
    {
      "cell_type": "code",
      "execution_count": null,
      "metadata": {
        "id": "tyjpdfv8PJWs"
      },
      "outputs": [],
      "source": [
        "sv=SVR(kernel='rbf')\n",
        "sv.fit(X_train,y_train)\n",
        "y_pred_sv=sv.predict(X_test)"
      ]
    },
    {
      "cell_type": "code",
      "execution_count": null,
      "metadata": {
        "colab": {
          "base_uri": "https://localhost:8080/"
        },
        "id": "d-TIdjsXPZRN",
        "outputId": "8fe6f2ec-724a-4e6f-8f8f-c1dee0732da4"
      },
      "outputs": [
        {
          "name": "stdout",
          "output_type": "stream",
          "text": [
            "Support Vector Regressor Result\n",
            "{'MAE': 37.5904107819602, 'RMSE': 43.45751342803396, 'R2': -0.0031056780550688945}\n"
          ]
        }
      ],
      "source": [
        "# Evaluation matirx for SVR\n",
        "svm_results = {\n",
        "    'MAE': mean_absolute_error(y_test, y_pred_sv),\n",
        "    'RMSE': np.sqrt(mean_squared_error(y_test, y_pred_sv)),\n",
        "    'R2': r2_score(y_test, y_pred_sv)\n",
        "}\n",
        "\n",
        "print(\"Support Vector Regressor Result\")\n",
        "print(svm_results)"
      ]
    },
    {
      "cell_type": "markdown",
      "metadata": {
        "id": "Ys1HxcKePvMM"
      },
      "source": [
        "Both Support Vector Regressor and Random Forest Regressor are underperforming with negative R² values, indicating poor model fit to the data."
      ]
    },
    {
      "cell_type": "markdown",
      "metadata": {
        "id": "y6IkNy0WP0ZA"
      },
      "source": [
        "Hyper Parameter tunning for Random Forest Regressor\n"
      ]
    },
    {
      "cell_type": "code",
      "execution_count": null,
      "metadata": {
        "colab": {
          "base_uri": "https://localhost:8080/"
        },
        "id": "WElEwt2GPwJe",
        "outputId": "44d83481-0518-476c-d333-5172fed9dcb9"
      },
      "outputs": [
        {
          "name": "stdout",
          "output_type": "stream",
          "text": [
            "Fitting 3 folds for each of 30 candidates, totalling 90 fits\n",
            "Best parameters found:  {'max_depth': 10, 'max_features': 'sqrt', 'min_samples_leaf': 1, 'min_samples_split': 10, 'n_estimators': 155}\n"
          ]
        }
      ],
      "source": [
        "from scipy.stats import randint\n",
        "param_dist = {\n",
        "    'n_estimators': randint(10, 200), # Number of trees in the forest (randomly chosen between 10 and 200)\n",
        "    'max_depth': [None, 10, 20, 30, 40], # Number of trees in the forest (randomly chosen between 10 and 200)\n",
        "    'min_samples_split': [2, 5, 10],   # Minimum number of samples required to split an internal node\n",
        "    'min_samples_leaf': [1, 2, 4],  # Minimum number of samples required to be at a leaf node\n",
        "    'max_features': ['auto', 'sqrt', 'log2'] # Number of features considered for each split\n",
        "}\n",
        "\n",
        "random_search_rf = RandomizedSearchCV(estimator=rf,param_distributions=param_dist,n_iter=30, cv=3, n_jobs=-1,verbose=2,  random_state=42,scoring='neg_mean_squared_error')\n",
        "\n",
        "# Fit the model with RandomizedSearchCV\n",
        "random_search_rf.fit(X_train, y_train)\n",
        "\n",
        "# Retrieve the best model with optimized hyperparameters\n",
        "best_model_rf = random_search_rf.best_estimator_\n",
        "print(\"Best parameters found: \", random_search_rf.best_params_)"
      ]
    },
    {
      "cell_type": "code",
      "execution_count": null,
      "metadata": {
        "colab": {
          "base_uri": "https://localhost:8080/"
        },
        "id": "nct4GY-zQbPk",
        "outputId": "82f228fa-98fa-48cc-8110-5c16bb8b6914"
      },
      "outputs": [
        {
          "name": "stdout",
          "output_type": "stream",
          "text": [
            "Final Model Performance:\n",
            "{'MAE': 37.567910881583416, 'RMSE': 43.42996393387407, 'R2': -0.0018342617983659881}\n"
          ]
        }
      ],
      "source": [
        "# Training with best parameter\n",
        "best_model_rf.fit(X_train,y_train)\n",
        "y_pred_rf_hp=best_model_rf.predict(X_test)\n",
        "rf_results = {\n",
        "    'MAE': mean_absolute_error(y_test, y_pred_rf_hp),\n",
        "    'RMSE': np.sqrt(mean_squared_error(y_test, y_pred_rf_hp)),\n",
        "    'R2': r2_score(y_test, y_pred_rf_hp)\n",
        "}\n",
        "\n",
        "print(\"Final Model Performance:\")\n",
        "print(rf_results)"
      ]
    },
    {
      "cell_type": "markdown",
      "source": [
        "Hyperparameter tuning for SVR"
      ],
      "metadata": {
        "id": "l3VA88H8OBQ3"
      }
    },
    {
      "cell_type": "code",
      "execution_count": null,
      "metadata": {
        "colab": {
          "background_save": true,
          "base_uri": "https://localhost:8080/"
        },
        "id": "WkxeKbuTQlV8",
        "outputId": "3a302734-5e9f-447f-ed9a-26584ff59669"
      },
      "outputs": [
        {
          "name": "stdout",
          "output_type": "stream",
          "text": [
            "Fitting 3 folds for each of 12 candidates, totalling 36 fits\n",
            "Best parameters found:  {'kernel': 'linear', 'epsilon': 0.5, 'C': 0.1}\n"
          ]
        }
      ],
      "source": [
        "param_dist = {\n",
        "    'C': [0.1, 1, 10, 100], # Regularization parameter (higher values make the model more complex)\n",
        "    'epsilon': [0.1, 0.2, 0.5], # Defines a margin of tolerance where predictions aren't penalized\n",
        "    'kernel': ['linear'] # Using a linear kernel (SVR also supports 'rbf', 'poly', etc.)\n",
        "}\n",
        "\n",
        "\n",
        "\n",
        "random_search_svr = RandomizedSearchCV(estimator=sv,param_distributions=param_dist,  n_iter=30,cv=3, n_jobs=-1,verbose=2,random_state=42, scoring='neg_mean_squared_error')\n",
        "\n",
        "# Fit the model with RandomizedSearchCV to find the best hyperparameters\n",
        "random_search_svr.fit(X_train, y_train)\n",
        "# Retrieve the best model with optimized hyperparameters\n",
        "best_model_svr = random_search_svr.best_estimator_\n",
        "print(\"Best parameters found: \", random_search_svr.best_params_)\n"
      ]
    },
    {
      "cell_type": "code",
      "execution_count": null,
      "metadata": {
        "colab": {
          "background_save": true
        },
        "id": "qmbVyD5OQ8V_",
        "outputId": "12dcce8f-2053-4992-e0ab-5d24f17c7f30"
      },
      "outputs": [
        {
          "name": "stdout",
          "output_type": "stream",
          "text": [
            "Final Model Performance:\n",
            "{'MAE': 37.56443126866838, 'RMSE': 43.39949667699349, 'R2': -0.00042912890620749877}\n"
          ]
        }
      ],
      "source": [
        "# Trainign  the model with best parameter\n",
        "best_model_svr.fit(X_train,y_train)\n",
        "y_pred_svr_hp=best_model_svr.predict(X_test)\n",
        "rf_results = {\n",
        "    'MAE': mean_absolute_error(y_test, y_pred_svr_hp),\n",
        "    'RMSE': np.sqrt(mean_squared_error(y_test, y_pred_svr_hp)),\n",
        "    'R2': r2_score(y_test, y_pred_svr_hp)\n",
        "}\n",
        "\n",
        "print(\"Final Model Performance:\")\n",
        "print(rf_results)"
      ]
    },
    {
      "cell_type": "markdown",
      "metadata": {
        "id": "UPoq4tfqRCbO"
      },
      "source": [
        "Feature selection for Random Forest"
      ]
    },
    {
      "cell_type": "code",
      "execution_count": null,
      "metadata": {
        "colab": {
          "background_save": true
        },
        "id": "dePQ0k0bRDa-",
        "outputId": "e5bc1097-1805-47c5-9c5a-a2069d150f4c"
      },
      "outputs": [
        {
          "name": "stdout",
          "output_type": "stream",
          "text": [
            "Fitting estimator with 18 features.\n",
            "RF Optimal Features: 17\n"
          ]
        }
      ],
      "source": [
        "# Feature selection using Recursive Feature Elimination with Cross-Validation (RFECV) for automatically automatically selects the best number of features\n",
        "from sklearn.feature_selection import RFECV\n",
        "rfecv_rf = RFECV(estimator=rf, step=1,cv=5,scoring=\"r2\",min_features_to_select=int(0.8 * X_train.shape[1]), n_jobs=-1,verbose=1)\n",
        "\n",
        "# Fit RFECV on the resampled training dataset\n",
        "rfecv_rf.fit(X_train, y_train)\n",
        "# Get the optimal number of selected features\n",
        "X_train_rf = rfecv_rf.transform(X_train)\n",
        "X_test_rf = rfecv_rf.transform(X_test)\n",
        "# Get a boolean mask indicating which features were selected (True for selected, False for removed)\n",
        "print(f\"RF Optimal Features: {rfecv_rf.n_features_}\")\n"
      ]
    },
    {
      "cell_type": "code",
      "execution_count": null,
      "metadata": {
        "colab": {
          "background_save": true
        },
        "id": "xK7DP1DyRYFi"
      },
      "outputs": [],
      "source": [
        "# Initialize SelectKBest feature selection using Mutual Information for regression\n",
        "from sklearn.feature_selection import SelectKBest, mutual_info_regression\n",
        "mi = SelectKBest(\n",
        "    score_func=mutual_info_regression, # Use mutual information to measure feature importance\n",
        "    k=int(0.8 * X_train.shape[1]))  # Select top 80% of features based on importance\n",
        "\n",
        "# Fit the selector to the training data and transform it\n",
        "X_train_mi = mi.fit_transform(X_train, y_train)\n",
        "\n",
        "# Apply the same transformation to the test data (using the selected features)\n",
        "X_test_mi = mi.transform(X_test)"
      ]
    },
    {
      "cell_type": "code",
      "execution_count": null,
      "metadata": {
        "colab": {
          "background_save": true
        },
        "id": "svu8uspmRabJ",
        "outputId": "a4cb276a-dafd-4ac1-e5ac-028098d76594"
      },
      "outputs": [
        {
          "data": {
            "text/plain": [
              "(24567, 18)"
            ]
          },
          "execution_count": 97,
          "metadata": {},
          "output_type": "execute_result"
        }
      ],
      "source": [
        "X_train.shape"
      ]
    },
    {
      "cell_type": "code",
      "execution_count": null,
      "metadata": {
        "colab": {
          "background_save": true
        },
        "id": "vHVotrHjRbjM",
        "outputId": "e7fe54f6-bb1c-4277-b99c-5a885b7d5631"
      },
      "outputs": [
        {
          "name": "stdout",
          "output_type": "stream",
          "text": [
            "Selected feature indices: [ 2  5  6  7  8  9 10 11 12 13 14 15 16 17]\n"
          ]
        }
      ],
      "source": [
        "selected_features = mi.get_support(indices=True)\n",
        "print(f\"Selected feature indices: {selected_features}\")"
      ]
    },
    {
      "cell_type": "markdown",
      "metadata": {
        "id": "5M8ldJ7TRgR0"
      },
      "source": [
        "Final Model\n"
      ]
    },
    {
      "cell_type": "markdown",
      "metadata": {
        "id": "tO5jLJSCRhY2"
      },
      "source": [
        "Random Forest"
      ]
    },
    {
      "cell_type": "code",
      "execution_count": null,
      "metadata": {
        "colab": {
          "background_save": true
        },
        "id": "NmHEFzgfRkhM",
        "outputId": "c9288fc7-edaa-4fc1-b827-412b2ec2767d"
      },
      "outputs": [
        {
          "name": "stdout",
          "output_type": "stream",
          "text": [
            "Final Model Performance:\n",
            "{'MAE': 37.583163301503646, 'RMSE': 43.44207013273332, 'R2': -0.002392866692705331}\n"
          ]
        }
      ],
      "source": [
        "# Training the model with best parameter and selected featue for Random Forest\n",
        "best_model_rf.fit(X_train_rf,y_train)\n",
        "y_pred_rf_final=best_model_rf.predict(X_test_rf)\n",
        "rf_results = {\n",
        "    'MAE': mean_absolute_error(y_test, y_pred_rf_final),\n",
        "    'RMSE': np.sqrt(mean_squared_error(y_test, y_pred_rf_final)),\n",
        "    'R2': r2_score(y_test, y_pred_rf_final)\n",
        "}\n",
        "\n",
        "print(\"Final Model Performance:\")\n",
        "print(rf_results)"
      ]
    },
    {
      "cell_type": "markdown",
      "metadata": {
        "id": "_xq5g8R_Rs8D"
      },
      "source": [
        "The model performed poorly with an MAE of 37.59, RMSE of 43.45, and an R² of -0.0025, indicating it fails to explain variance."
      ]
    },
    {
      "cell_type": "markdown",
      "metadata": {
        "id": "GGxWcFBSRybZ"
      },
      "source": [
        "SVR"
      ]
    },
    {
      "cell_type": "code",
      "execution_count": null,
      "metadata": {
        "colab": {
          "background_save": true
        },
        "id": "n4rOgFEDRtys",
        "outputId": "16f68889-2fe2-42e7-e5eb-3484ad9447f6"
      },
      "outputs": [
        {
          "name": "stdout",
          "output_type": "stream",
          "text": [
            "Final Model Performance:\n",
            "{'MAE': 37.559612552271595, 'RMSE': 43.3927097457826, 'R2': -0.00011625372137791246}\n"
          ]
        }
      ],
      "source": [
        "# Training the model with best parameter and selected featue for SVR (Support vector machine)\n",
        "best_model_svr.fit(X_train_mi,y_train)\n",
        "y_pred_svr_final=best_model_svr.predict(X_test_mi)\n",
        "svr_results = {\n",
        "    'MAE': mean_absolute_error(y_test, y_pred_svr_final),\n",
        "    'RMSE': np.sqrt(mean_squared_error(y_test, y_pred_svr_final)),\n",
        "    'R2': r2_score(y_test, y_pred_svr_final)\n",
        "}\n",
        "\n",
        "print(\"Final Model Performance:\")\n",
        "print(svr_results)"
      ]
    },
    {
      "cell_type": "markdown",
      "metadata": {
        "id": "t1Pqm3HgR5b4"
      },
      "source": [
        "The model still underperforms with an MAE of 37.56, RMSE of 43.39, and an R² of -0.0001, showing minimal improvement but failing to explain variance."
      ]
    },
    {
      "cell_type": "markdown",
      "metadata": {
        "id": "crbKWUrYR6Zh"
      },
      "source": [
        "Final Conclusion:\n",
        "The second model shows a very slight improvement in performance, but both models fail to capture meaningful variance in the data (R² ≈ 0). Since the there is no strong correlation betwenn many feature so performance may get affected by this"
      ]
    }
  ],
  "metadata": {
    "colab": {
      "provenance": []
    },
    "kernelspec": {
      "display_name": "Python 3",
      "name": "python3"
    },
    "language_info": {
      "name": "python"
    }
  },
  "nbformat": 4,
  "nbformat_minor": 0
}