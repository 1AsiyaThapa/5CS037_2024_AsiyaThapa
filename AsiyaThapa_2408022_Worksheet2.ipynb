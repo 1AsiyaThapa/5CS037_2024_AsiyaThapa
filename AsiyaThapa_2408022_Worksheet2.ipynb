{
  "nbformat": 4,
  "nbformat_minor": 0,
  "metadata": {
    "colab": {
      "provenance": []
    },
    "kernelspec": {
      "name": "python3",
      "display_name": "Python 3"
    },
    "language_info": {
      "name": "python"
    }
  },
  "cells": [
    {
      "cell_type": "markdown",
      "source": [
        "3.1 Warming Up Exercises - Basic Inspection and Exploration:\n",
        "Problem 1 - Data Read, Write and Inspect:\n",
        "Complete all following Task:\n",
        "• Dataset for the Task: \"bank.csv\"\n",
        "1. Load the provided dataset and import in pandas DataFrame.\n",
        "2. Check info of the DataFrame and identify following:\n",
        "(a) columns with dtypes=object\n",
        "(b) unique values of those columns.\n",
        "(c) check for the total number of null values in each column.\n",
        "3. Drop all the columns with dtypes object and store in new DataFrame, also write the DataFrame in\n",
        "”.csv” with name ”banknumericdata.csv”\n",
        "4. Read ”banknumericdata.csv” and Find the summary statistics."
      ],
      "metadata": {
        "id": "2AMvwWa0_U8q"
      }
    },
    {
      "cell_type": "code",
      "source": [
        "import pandas as pd\n",
        "df = pd.read_csv(\"/content/drive/MyDrive/ConceptofAIandTechnology/Datasets/bank .csv\");\n",
        "print(df.head())"
      ],
      "metadata": {
        "colab": {
          "base_uri": "https://localhost:8080/"
        },
        "id": "eLYdqTKr_2lD",
        "outputId": "51324c3e-42ea-4676-a3f7-a71543df28b3"
      },
      "execution_count": null,
      "outputs": [
        {
          "output_type": "stream",
          "name": "stdout",
          "text": [
            "   age           job  marital  education default  balance housing loan  \\\n",
            "0   58    management  married   tertiary      no     2143     yes   no   \n",
            "1   44    technician   single  secondary      no       29     yes   no   \n",
            "2   33  entrepreneur  married  secondary      no        2     yes  yes   \n",
            "3   47   blue-collar  married    unknown      no     1506     yes   no   \n",
            "4   33       unknown   single    unknown      no        1      no   no   \n",
            "\n",
            "   contact  day month  duration  campaign  pdays  previous poutcome   y  \n",
            "0  unknown    5   may       261         1     -1         0  unknown  no  \n",
            "1  unknown    5   may       151         1     -1         0  unknown  no  \n",
            "2  unknown    5   may        76         1     -1         0  unknown  no  \n",
            "3  unknown    5   may        92         1     -1         0  unknown  no  \n",
            "4  unknown    5   may       198         1     -1         0  unknown  no  \n"
          ]
        }
      ]
    },
    {
      "cell_type": "code",
      "source": [
        "object_column = df.select_dtypes(include = ['object']).columns\n",
        "print(\"Column with dtype = object\",object_column)\n"
      ],
      "metadata": {
        "colab": {
          "base_uri": "https://localhost:8080/"
        },
        "id": "zqTR06m8_9Xz",
        "outputId": "169d4907-65e9-4dd5-d2be-365e7af44445"
      },
      "execution_count": null,
      "outputs": [
        {
          "output_type": "stream",
          "name": "stdout",
          "text": [
            "Column with dtype = object Index(['job', 'marital', 'education', 'default', 'housing', 'loan', 'contact',\n",
            "       'month', 'poutcome', 'y'],\n",
            "      dtype='object')\n"
          ]
        }
      ]
    },
    {
      "cell_type": "code",
      "source": [
        "for col in object_column:\n",
        "  unique_values = df[col].unique()\n",
        "  print(f\"Unique values in column'{col}'\")\n",
        "  print(unique_values)\n",
        "  print()"
      ],
      "metadata": {
        "colab": {
          "base_uri": "https://localhost:8080/"
        },
        "id": "IjOtL7cRAEyU",
        "outputId": "6c6f41a7-df76-47aa-a32f-005ba8f86c7b"
      },
      "execution_count": null,
      "outputs": [
        {
          "output_type": "stream",
          "name": "stdout",
          "text": [
            "Unique values in column'job'\n",
            "['management' 'technician' 'entrepreneur' 'blue-collar' 'unknown'\n",
            " 'retired' 'admin.' 'services' 'self-employed' 'unemployed' 'housemaid'\n",
            " 'student']\n",
            "\n",
            "Unique values in column'marital'\n",
            "['married' 'single' 'divorced']\n",
            "\n",
            "Unique values in column'education'\n",
            "['tertiary' 'secondary' 'unknown' 'primary']\n",
            "\n",
            "Unique values in column'default'\n",
            "['no' 'yes']\n",
            "\n",
            "Unique values in column'housing'\n",
            "['yes' 'no']\n",
            "\n",
            "Unique values in column'loan'\n",
            "['no' 'yes']\n",
            "\n",
            "Unique values in column'contact'\n",
            "['unknown' 'cellular' 'telephone']\n",
            "\n",
            "Unique values in column'month'\n",
            "['may' 'jun' 'jul' 'aug' 'oct' 'nov' 'dec' 'jan' 'feb' 'mar' 'apr' 'sep']\n",
            "\n",
            "Unique values in column'poutcome'\n",
            "['unknown' 'failure' 'other' 'success']\n",
            "\n",
            "Unique values in column'y'\n",
            "['no' 'yes']\n",
            "\n"
          ]
        }
      ]
    },
    {
      "cell_type": "code",
      "source": [
        "null_values = df.isnull().sum()\n",
        "print(\"Null value in each column \",null_values)"
      ],
      "metadata": {
        "colab": {
          "base_uri": "https://localhost:8080/"
        },
        "id": "3N1th2PhAHbC",
        "outputId": "af0861e1-e309-4ac4-e135-08da62eef988"
      },
      "execution_count": null,
      "outputs": [
        {
          "output_type": "stream",
          "name": "stdout",
          "text": [
            "Null value in each column  age          0\n",
            "job          0\n",
            "marital      0\n",
            "education    0\n",
            "default      0\n",
            "balance      0\n",
            "housing      0\n",
            "loan         0\n",
            "contact      0\n",
            "day          0\n",
            "month        0\n",
            "duration     0\n",
            "campaign     0\n",
            "pdays        0\n",
            "previous     0\n",
            "poutcome     0\n",
            "y            0\n",
            "dtype: int64\n"
          ]
        }
      ]
    },
    {
      "cell_type": "code",
      "source": [
        "df_numeric = df.drop(columns= object_column)\n",
        "df_numeric.to_csv(\"banknumericdata.csv\", index=False)\n",
        "print(\"Numeric DataFrame saved as 'banknumericdata.csv'\")"
      ],
      "metadata": {
        "colab": {
          "base_uri": "https://localhost:8080/"
        },
        "id": "urTx56htAM_U",
        "outputId": "c615d1fb-61ae-411e-bc3f-605b0a54ff23"
      },
      "execution_count": null,
      "outputs": [
        {
          "output_type": "stream",
          "name": "stdout",
          "text": [
            "Numeric DataFrame saved as 'banknumericdata.csv'\n"
          ]
        }
      ]
    },
    {
      "cell_type": "code",
      "source": [
        "df_numeric_read = pd.read_csv(\"banknumericdata.csv\")\n",
        "summary_stats = df_numeric_read.describe()\n",
        "print(\"Summary statistics:\\n\", summary_stats)"
      ],
      "metadata": {
        "colab": {
          "base_uri": "https://localhost:8080/"
        },
        "id": "kXwD_k0rAWaI",
        "outputId": "40ed6942-8ee5-43fd-ab92-bc6796c76cf1"
      },
      "execution_count": null,
      "outputs": [
        {
          "output_type": "stream",
          "name": "stdout",
          "text": [
            "Summary statistics:\n",
            "                 age        balance           day      duration      campaign  \\\n",
            "count  45211.000000   45211.000000  45211.000000  45211.000000  45211.000000   \n",
            "mean      40.936210    1362.272058     15.806419    258.163080      2.763841   \n",
            "std       10.618762    3044.765829      8.322476    257.527812      3.098021   \n",
            "min       18.000000   -8019.000000      1.000000      0.000000      1.000000   \n",
            "25%       33.000000      72.000000      8.000000    103.000000      1.000000   \n",
            "50%       39.000000     448.000000     16.000000    180.000000      2.000000   \n",
            "75%       48.000000    1428.000000     21.000000    319.000000      3.000000   \n",
            "max       95.000000  102127.000000     31.000000   4918.000000     63.000000   \n",
            "\n",
            "              pdays      previous  \n",
            "count  45211.000000  45211.000000  \n",
            "mean      40.197828      0.580323  \n",
            "std      100.128746      2.303441  \n",
            "min       -1.000000      0.000000  \n",
            "25%       -1.000000      0.000000  \n",
            "50%       -1.000000      0.000000  \n",
            "75%       -1.000000      0.000000  \n",
            "max      871.000000    275.000000  \n"
          ]
        }
      ]
    },
    {
      "cell_type": "markdown",
      "source": [
        "Problem 2 - Data Imputations:\n",
        "Complete all the following Task:\n",
        "• Dataset for the Task: \"medical_student.csv\"\n",
        "1. Load the provided dataset and import in pandas DataFrame.\n",
        "2. Check info of the DataFrame and identify column with missing (null) values.\n",
        "3. For the column with missing values fill the values using various techniques we discussed above. Try\n",
        "to explain why did you select the particular methods for particular column.\n",
        "4. Check for any duplicate values present in Dataset and do necessary to manage the duplicate items.\n",
        "{Hint: dataset.duplicated.sum()}"
      ],
      "metadata": {
        "id": "hpSfZvO4Ago_"
      }
    },
    {
      "cell_type": "code",
      "source": [
        "import pandas as pd\n",
        "df = pd.read_csv(\"/content/drive/MyDrive/ConceptofAIandTechnology/Datasets/medical_students_dataset.csv\")\n",
        "print(df.head())"
      ],
      "metadata": {
        "colab": {
          "base_uri": "https://localhost:8080/"
        },
        "id": "RYwVOALFAkaW",
        "outputId": "cdbdba2c-63cf-4d69-f66d-7c40bbc236d4"
      },
      "execution_count": null,
      "outputs": [
        {
          "output_type": "stream",
          "name": "stdout",
          "text": [
            "   Student ID   Age  Gender      Height     Weight Blood Type        BMI  \\\n",
            "0         1.0  18.0  Female  161.777924  72.354947          O  27.645835   \n",
            "1         2.0   NaN    Male  152.069157  47.630941          B        NaN   \n",
            "2         3.0  32.0  Female  182.537664  55.741083          A  16.729017   \n",
            "3         NaN  30.0    Male  182.112867  63.332207          B  19.096042   \n",
            "4         5.0  23.0  Female         NaN  46.234173          O        NaN   \n",
            "\n",
            "   Temperature  Heart Rate  Blood Pressure  Cholesterol Diabetes Smoking  \n",
            "0          NaN        95.0           109.0        203.0       No     NaN  \n",
            "1    98.714977        93.0           104.0        163.0       No      No  \n",
            "2    98.260293        76.0           130.0        216.0      Yes      No  \n",
            "3    98.839605        99.0           112.0        141.0       No     Yes  \n",
            "4    98.480008        95.0             NaN        231.0       No      No  \n"
          ]
        }
      ]
    },
    {
      "cell_type": "code",
      "source": [
        "print(df.info())\n",
        "missing_values = df.isnull().sum()\n",
        "missing_columns = missing_values[missing_values > 0]\n",
        "print(\"Columns with missing values:\\n\", missing_columns)"
      ],
      "metadata": {
        "colab": {
          "base_uri": "https://localhost:8080/"
        },
        "id": "_svYbpmEA1hn",
        "outputId": "a4cfe011-8993-4e9c-a50b-eb2b0149392c"
      },
      "execution_count": null,
      "outputs": [
        {
          "output_type": "stream",
          "name": "stdout",
          "text": [
            "<class 'pandas.core.frame.DataFrame'>\n",
            "RangeIndex: 200000 entries, 0 to 199999\n",
            "Data columns (total 13 columns):\n",
            " #   Column          Non-Null Count   Dtype  \n",
            "---  ------          --------------   -----  \n",
            " 0   Student ID      180000 non-null  float64\n",
            " 1   Age             180000 non-null  float64\n",
            " 2   Gender          180000 non-null  object \n",
            " 3   Height          180000 non-null  float64\n",
            " 4   Weight          180000 non-null  float64\n",
            " 5   Blood Type      180000 non-null  object \n",
            " 6   BMI             180000 non-null  float64\n",
            " 7   Temperature     180000 non-null  float64\n",
            " 8   Heart Rate      180000 non-null  float64\n",
            " 9   Blood Pressure  180000 non-null  float64\n",
            " 10  Cholesterol     180000 non-null  float64\n",
            " 11  Diabetes        180000 non-null  object \n",
            " 12  Smoking         180000 non-null  object \n",
            "dtypes: float64(9), object(4)\n",
            "memory usage: 19.8+ MB\n",
            "None\n",
            "Columns with missing values:\n",
            " Student ID        20000\n",
            "Age               20000\n",
            "Gender            20000\n",
            "Height            20000\n",
            "Weight            20000\n",
            "Blood Type        20000\n",
            "BMI               20000\n",
            "Temperature       20000\n",
            "Heart Rate        20000\n",
            "Blood Pressure    20000\n",
            "Cholesterol       20000\n",
            "Diabetes          20000\n",
            "Smoking           20000\n",
            "dtype: int64\n"
          ]
        }
      ]
    },
    {
      "cell_type": "code",
      "source": [
        "for col in missing_columns.index:\n",
        "    if df[col].dtype in ['int64', 'float64']:\n",
        "\n",
        "        df[col].fillna(df[col].mean(), inplace=True)\n",
        "        print(f\"Filled missing values in '{col}' using mean: {df[col].mean()}\")\n",
        "    elif df[col].dtype == 'object':\n",
        "\n",
        "        df[col].fillna(df[col].mode()[0], inplace=True)\n",
        "        print(f\"Filled missing values in '{col}' using mode: {df[col].mode()[0]}\")\n"
      ],
      "metadata": {
        "colab": {
          "base_uri": "https://localhost:8080/"
        },
        "id": "pRRS8Sh-A-U7",
        "outputId": "0c9617e2-b08c-4c7b-d867-9f6721aaf60d"
      },
      "execution_count": null,
      "outputs": [
        {
          "output_type": "stream",
          "name": "stderr",
          "text": [
            "<ipython-input-9-09075ca2d297>:4: FutureWarning: A value is trying to be set on a copy of a DataFrame or Series through chained assignment using an inplace method.\n",
            "The behavior will change in pandas 3.0. This inplace method will never work because the intermediate object on which we are setting values always behaves as a copy.\n",
            "\n",
            "For example, when doing 'df[col].method(value, inplace=True)', try using 'df.method({col: value}, inplace=True)' or df[col] = df[col].method(value) instead, to perform the operation inplace on the original object.\n",
            "\n",
            "\n",
            "  df[col].fillna(df[col].mean(), inplace=True)\n",
            "<ipython-input-9-09075ca2d297>:8: FutureWarning: A value is trying to be set on a copy of a DataFrame or Series through chained assignment using an inplace method.\n",
            "The behavior will change in pandas 3.0. This inplace method will never work because the intermediate object on which we are setting values always behaves as a copy.\n",
            "\n",
            "For example, when doing 'df[col].method(value, inplace=True)', try using 'df.method({col: value}, inplace=True)' or df[col] = df[col].method(value) instead, to perform the operation inplace on the original object.\n",
            "\n",
            "\n",
            "  df[col].fillna(df[col].mode()[0], inplace=True)\n"
          ]
        },
        {
          "output_type": "stream",
          "name": "stdout",
          "text": [
            "Filled missing values in 'Student ID' using mean: 49974.042077777776\n",
            "Filled missing values in 'Age' using mean: 26.02156111111111\n",
            "Filled missing values in 'Gender' using mode: Male\n",
            "Filled missing values in 'Height' using mean: 174.94710266857416\n",
            "Filled missing values in 'Weight' using mean: 69.97158509186077\n",
            "Filled missing values in 'Blood Type' using mode: B\n",
            "Filled missing values in 'BMI' using mean: 23.338869359639226\n",
            "Filled missing values in 'Temperature' using mean: 98.60094787707666\n",
            "Filled missing values in 'Heart Rate' using mean: 79.50376666666666\n",
            "Filled missing values in 'Blood Pressure' using mean: 114.55803333333333\n",
            "Filled missing values in 'Cholesterol' using mean: 184.4863611111111\n",
            "Filled missing values in 'Diabetes' using mode: No\n",
            "Filled missing values in 'Smoking' using mode: No\n"
          ]
        }
      ]
    },
    {
      "cell_type": "code",
      "source": [
        "duplicate_count = df.duplicated().sum()\n",
        "print(f\"Number of duplicate rows: {duplicate_count}\")\n",
        "\n",
        "if duplicate_count > 0:\n",
        "    df.drop_duplicates(inplace=True)\n",
        "    print(f\"Removed {duplicate_count} duplicate rows.\")\n",
        "else:\n",
        "    print(\"No duplicate rows found.\")\n"
      ],
      "metadata": {
        "colab": {
          "base_uri": "https://localhost:8080/"
        },
        "id": "Uefrec_WBFoA",
        "outputId": "4b3455ce-c629-4594-b472-f5603855d8f8"
      },
      "execution_count": null,
      "outputs": [
        {
          "output_type": "stream",
          "name": "stdout",
          "text": [
            "Number of duplicate rows: 12572\n",
            "Removed 12572 duplicate rows.\n"
          ]
        }
      ]
    },
    {
      "cell_type": "markdown",
      "source": [
        "3.2 Exercises - Data Cleaning and Transformations with ”Titanic Dataset”:\n",
        "Dataset Used: \"titanic.csv\"\n",
        "Problem - 1:\n",
        "Create a DataFrame that is subsetted for the columns ’Name’, ’Pclass’, ’Sex’, ’Age’, ’Fare’, and ’Survived’.\n",
        "Retain only those rows where ’Pclass’ is equal to 1, representing first-class passengers. What is the mean,\n",
        "median, maximum value, and minimum value of the ’Fare’ column?"
      ],
      "metadata": {
        "id": "gUqJuUkLBTWT"
      }
    },
    {
      "cell_type": "code",
      "source": [
        "import pandas as pd\n",
        "df = pd.read_csv(\"/content/drive/MyDrive/ConceptofAIandTechnology/Datasets/Titanic-Dataset.csv\")\n",
        "print(df.head())"
      ],
      "metadata": {
        "colab": {
          "base_uri": "https://localhost:8080/"
        },
        "id": "yS5mO90mBcqu",
        "outputId": "fedd5d38-2e0b-4e4f-fd83-fc233c660601"
      },
      "execution_count": null,
      "outputs": [
        {
          "output_type": "stream",
          "name": "stdout",
          "text": [
            "   PassengerId  Survived  Pclass  \\\n",
            "0            1         0       3   \n",
            "1            2         1       1   \n",
            "2            3         1       3   \n",
            "3            4         1       1   \n",
            "4            5         0       3   \n",
            "\n",
            "                                                Name     Sex   Age  SibSp  \\\n",
            "0                            Braund, Mr. Owen Harris    male  22.0      1   \n",
            "1  Cumings, Mrs. John Bradley (Florence Briggs Th...  female  38.0      1   \n",
            "2                             Heikkinen, Miss. Laina  female  26.0      0   \n",
            "3       Futrelle, Mrs. Jacques Heath (Lily May Peel)  female  35.0      1   \n",
            "4                           Allen, Mr. William Henry    male  35.0      0   \n",
            "\n",
            "   Parch            Ticket     Fare Cabin Embarked  \n",
            "0      0         A/5 21171   7.2500   NaN        S  \n",
            "1      0          PC 17599  71.2833   C85        C  \n",
            "2      0  STON/O2. 3101282   7.9250   NaN        S  \n",
            "3      0            113803  53.1000  C123        S  \n",
            "4      0            373450   8.0500   NaN        S  \n"
          ]
        }
      ]
    },
    {
      "cell_type": "code",
      "source": [
        "columns = ['Name', 'Pclass', 'Sex', 'Age', 'Fare', 'Survived']\n",
        "subset_df = df[columns]\n",
        "print(subset_df.head())\n",
        "first_class_df = subset_df[subset_df['Pclass'] == 1]\n",
        "print(first_class_df.head())"
      ],
      "metadata": {
        "colab": {
          "base_uri": "https://localhost:8080/"
        },
        "id": "qimv2wTmBiEX",
        "outputId": "56588b71-221f-40f8-9512-f5f8fdeb9022"
      },
      "execution_count": null,
      "outputs": [
        {
          "output_type": "stream",
          "name": "stdout",
          "text": [
            "                                                Name  Pclass     Sex   Age  \\\n",
            "0                            Braund, Mr. Owen Harris       3    male  22.0   \n",
            "1  Cumings, Mrs. John Bradley (Florence Briggs Th...       1  female  38.0   \n",
            "2                             Heikkinen, Miss. Laina       3  female  26.0   \n",
            "3       Futrelle, Mrs. Jacques Heath (Lily May Peel)       1  female  35.0   \n",
            "4                           Allen, Mr. William Henry       3    male  35.0   \n",
            "\n",
            "      Fare  Survived  \n",
            "0   7.2500         0  \n",
            "1  71.2833         1  \n",
            "2   7.9250         1  \n",
            "3  53.1000         1  \n",
            "4   8.0500         0  \n",
            "                                                 Name  Pclass     Sex   Age  \\\n",
            "1   Cumings, Mrs. John Bradley (Florence Briggs Th...       1  female  38.0   \n",
            "3        Futrelle, Mrs. Jacques Heath (Lily May Peel)       1  female  35.0   \n",
            "6                             McCarthy, Mr. Timothy J       1    male  54.0   \n",
            "11                           Bonnell, Miss. Elizabeth       1  female  58.0   \n",
            "23                       Sloper, Mr. William Thompson       1    male  28.0   \n",
            "\n",
            "       Fare  Survived  \n",
            "1   71.2833         1  \n",
            "3   53.1000         1  \n",
            "6   51.8625         0  \n",
            "11  26.5500         1  \n",
            "23  35.5000         1  \n"
          ]
        }
      ]
    },
    {
      "cell_type": "code",
      "source": [
        "first_class_df = subset_df[subset_df['Pclass'] == 1]\n",
        "print(first_class_df.head())\n",
        "\n",
        "fare_mean = first_class_df['Fare'].mean()\n",
        "fare_median = first_class_df['Fare'].median()\n",
        "fare_max = first_class_df['Fare'].max()\n",
        "fare_min = first_class_df['Fare'].min()\n",
        "\n",
        "print(f\"Mean Fare: {fare_mean}\")\n",
        "print(f\"Median Fare: {fare_median}\")\n",
        "print(f\"Maximum Fare: {fare_max}\")\n",
        "print(f\"Minimum Fare: {fare_min}\")"
      ],
      "metadata": {
        "colab": {
          "base_uri": "https://localhost:8080/"
        },
        "id": "sliGgnyaB3PS",
        "outputId": "c2d466f2-5a84-4dca-c900-f3392f890525"
      },
      "execution_count": null,
      "outputs": [
        {
          "output_type": "stream",
          "name": "stdout",
          "text": [
            "                                                 Name  Pclass     Sex   Age  \\\n",
            "1   Cumings, Mrs. John Bradley (Florence Briggs Th...       1  female  38.0   \n",
            "3        Futrelle, Mrs. Jacques Heath (Lily May Peel)       1  female  35.0   \n",
            "6                             McCarthy, Mr. Timothy J       1    male  54.0   \n",
            "11                           Bonnell, Miss. Elizabeth       1  female  58.0   \n",
            "23                       Sloper, Mr. William Thompson       1    male  28.0   \n",
            "\n",
            "       Fare  Survived  \n",
            "1   71.2833         1  \n",
            "3   53.1000         1  \n",
            "6   51.8625         0  \n",
            "11  26.5500         1  \n",
            "23  35.5000         1  \n",
            "Mean Fare: 84.1546875\n",
            "Median Fare: 60.287499999999994\n",
            "Maximum Fare: 512.3292\n",
            "Minimum Fare: 0.0\n"
          ]
        }
      ]
    },
    {
      "cell_type": "markdown",
      "source": [
        "Problem - 2:\n",
        "How many null values are contained in the ’Age’ column in your subsetted DataFrame? Once you’ve found\n",
        "this out, drop them from your DataFrame."
      ],
      "metadata": {
        "id": "5ZY9DNHLCA9j"
      }
    },
    {
      "cell_type": "code",
      "source": [
        "null_count_age = first_class_df['Age'].isnull().sum()\n",
        "print(f\"Number of null values in the 'Age' column: {null_count_age}\")"
      ],
      "metadata": {
        "colab": {
          "base_uri": "https://localhost:8080/"
        },
        "id": "iL123T3nCDl7",
        "outputId": "9b48b371-120b-40a4-b93a-2d5a4b13d39d"
      },
      "execution_count": null,
      "outputs": [
        {
          "output_type": "stream",
          "name": "stdout",
          "text": [
            "Number of null values in the 'Age' column: 30\n"
          ]
        }
      ]
    },
    {
      "cell_type": "code",
      "source": [
        "first_class_df_cleaned = first_class_df.dropna(subset=['Age'])\n",
        "\n",
        "null_count_age_after = first_class_df_cleaned['Age'].isnull().sum()\n",
        "print(f\"Number of null values in 'Age' column after dropping: {null_count_age_after}\")"
      ],
      "metadata": {
        "colab": {
          "base_uri": "https://localhost:8080/"
        },
        "id": "MURhsaZnCTYo",
        "outputId": "bc480f48-3cd0-4c4a-9ad4-d5f472652aa9"
      },
      "execution_count": null,
      "outputs": [
        {
          "output_type": "stream",
          "name": "stdout",
          "text": [
            "Number of null values in 'Age' column after dropping: 0\n"
          ]
        }
      ]
    },
    {
      "cell_type": "markdown",
      "source": [
        "Problem - 3:\n",
        "\n",
        "The ’Embarked’ column in the Titanic dataset contains categorical data representing the ports of embarka-\n",
        "tion:\n",
        "\n",
        "• ’C’ for Cherbourg\n",
        "• ’Q’ for Queenstown\n",
        "• ’S’ for Southampton\n",
        "Task:\n",
        "1. Use one-hot encoding to convert the ’Embarked’ column into separate binary columns (’Embarked C’,\n",
        "’Embarked Q’, ’Embarked S’).\n",
        "2. Add these new columns to the original DataFrame.\n",
        "3. Drop the original ’Embarked’ column.\n",
        "4. Print the first few rows of the modified DataFrame to verify the changes."
      ],
      "metadata": {
        "id": "cDLQ_y4qCcFU"
      }
    },
    {
      "cell_type": "code",
      "source": [
        "import pandas as pd\n",
        "\n",
        "df = pd.read_csv(\"/content/drive/MyDrive/ConceptofAIandTechnology/Datasets/Titanic-Dataset.csv\")\n",
        "\n",
        "embarked_encoded = pd.get_dummies(df['Embarked'], prefix='Embarked')\n",
        "\n",
        "df = pd.concat([df, embarked_encoded], axis=1)\n",
        "\n",
        "df.drop(columns=['Embarked'], inplace=True)\n",
        "\n",
        "print(df.head())"
      ],
      "metadata": {
        "colab": {
          "base_uri": "https://localhost:8080/"
        },
        "id": "eh3-ORDwCc45",
        "outputId": "147eeb3a-21ec-4fe5-b89e-eabe19273479"
      },
      "execution_count": null,
      "outputs": [
        {
          "output_type": "stream",
          "name": "stdout",
          "text": [
            "   PassengerId  Survived  Pclass  \\\n",
            "0            1         0       3   \n",
            "1            2         1       1   \n",
            "2            3         1       3   \n",
            "3            4         1       1   \n",
            "4            5         0       3   \n",
            "\n",
            "                                                Name     Sex   Age  SibSp  \\\n",
            "0                            Braund, Mr. Owen Harris    male  22.0      1   \n",
            "1  Cumings, Mrs. John Bradley (Florence Briggs Th...  female  38.0      1   \n",
            "2                             Heikkinen, Miss. Laina  female  26.0      0   \n",
            "3       Futrelle, Mrs. Jacques Heath (Lily May Peel)  female  35.0      1   \n",
            "4                           Allen, Mr. William Henry    male  35.0      0   \n",
            "\n",
            "   Parch            Ticket     Fare Cabin  Embarked_C  Embarked_Q  Embarked_S  \n",
            "0      0         A/5 21171   7.2500   NaN       False       False        True  \n",
            "1      0          PC 17599  71.2833   C85        True       False       False  \n",
            "2      0  STON/O2. 3101282   7.9250   NaN       False       False        True  \n",
            "3      0            113803  53.1000  C123       False       False        True  \n",
            "4      0            373450   8.0500   NaN       False       False        True  \n"
          ]
        }
      ]
    },
    {
      "cell_type": "markdown",
      "source": [
        "Problem - 4:\n",
        "\n",
        "Compare the mean survival rates (’Survived’) for the different groups in the ’Sex’ column. Draw a visual-\n",
        "ization to show how the survival distributions vary by gender."
      ],
      "metadata": {
        "id": "bA4BF9xOCp11"
      }
    },
    {
      "cell_type": "code",
      "source": [
        "import pandas as pd\n",
        "import matplotlib.pyplot as plt\n",
        "\n",
        "df = pd.read_csv(\"/content/drive/MyDrive/ConceptofAIandTechnology/Datasets/Titanic-Dataset.csv\")\n",
        "\n",
        "survival_rates = df.groupby('Sex')['Survived'].mean()\n",
        "\n",
        "print(\"Mean Survival Rates by Gender:\")\n",
        "print(survival_rates)\n",
        "\n",
        "\n",
        "genders = survival_rates.index\n",
        "rates = survival_rates.values\n",
        "\n",
        "plt.bar(genders, rates, color=['blue', 'pink'])\n",
        "plt.title('Survival Rates by Gender')\n",
        "plt.xlabel('Gender')\n",
        "plt.ylabel('Mean Survival Rate')\n",
        "plt.show()\n"
      ],
      "metadata": {
        "colab": {
          "base_uri": "https://localhost:8080/",
          "height": 563
        },
        "id": "ASCchO4LCs5A",
        "outputId": "054f8f19-51a0-4571-f34b-f6ab6970f0ff"
      },
      "execution_count": null,
      "outputs": [
        {
          "output_type": "stream",
          "name": "stdout",
          "text": [
            "Mean Survival Rates by Gender:\n",
            "Sex\n",
            "female    0.742038\n",
            "male      0.188908\n",
            "Name: Survived, dtype: float64\n"
          ]
        },
        {
          "output_type": "display_data",
          "data": {
            "text/plain": [
              "<Figure size 640x480 with 1 Axes>"
            ],
            "image/png": "[encoded data removed]"
          },
          "metadata": {}
        }
      ]
    },
    {
      "cell_type": "markdown",
      "source": [
        "Problem - 5:\n",
        "\n",
        "Draw a visualization that breaks your visualization from Exercise 3 down by the port of embarkation (’Em-\n",
        "barked’). In this instance, compare the ports ’C’ (Cherbourg), ’Q’ (Queenstown), and ’S’ (Southampton)."
      ],
      "metadata": {
        "id": "XttPHB7HC72r"
      }
    },
    {
      "cell_type": "code",
      "source": [
        "import pandas as pd\n",
        "import matplotlib.pyplot as plt\n",
        "\n",
        "\n",
        "df = pd.read_csv(\"/content/drive/MyDrive/ConceptofAIandTechnology/Datasets/Titanic-Dataset.csv\")\n",
        "\n",
        "df = df[df['Embarked'].isin(['C', 'Q', 'S'])]\n",
        "\n",
        "\n",
        "survival_rates = df.groupby(['Embarked', 'Sex'])['Survived'].mean().unstack()\n",
        "\n",
        "print(\"Survival Rates by Gender and Embarkation Port:\")\n",
        "print(survival_rates)\n",
        "\n",
        "\n",
        "survival_rates.plot(kind='bar', figsize=(10, 6), color=['pink', 'blue'])\n",
        "\n",
        "plt.title('Survival Rates by Gender and Embarkation Port', fontsize=14)\n",
        "plt.xlabel('Port of Embarkation')\n",
        "plt.ylabel('Mean Survival Rate')\n",
        "plt.legend(title='Gender')\n",
        "plt.xticks(rotation=0)\n",
        "plt.show()"
      ],
      "metadata": {
        "colab": {
          "base_uri": "https://localhost:8080/",
          "height": 674
        },
        "id": "ryRoHfOOC903",
        "outputId": "eb857746-eae0-4033-8cf6-5171c86a61df"
      },
      "execution_count": null,
      "outputs": [
        {
          "output_type": "stream",
          "name": "stdout",
          "text": [
            "Survival Rates by Gender and Embarkation Port:\n",
            "Sex         female      male\n",
            "Embarked                    \n",
            "C         0.876712  0.305263\n",
            "Q         0.750000  0.073171\n",
            "S         0.689655  0.174603\n"
          ]
        },
        {
          "output_type": "display_data",
          "data": {
            "text/plain": [
              "<Figure size 1000x600 with 1 Axes>"
            ],
            "image/png": "[encoded data removed]"
          },
          "metadata": {}
        }
      ]
    },
    {
      "cell_type": "markdown",
      "source": [
        "Problem - 6{Optional}:\n",
        "Show how the survival rates (’Survived’) vary by age group and passenger class (’Pclass’). Break up the\n",
        "’Age’ column into five quantiles in your DataFrame, and then compare the means of ’Survived’ by class\n",
        "and age group. Draw a visualization using a any plotting library to represent this graphically."
      ],
      "metadata": {
        "id": "hg7Pk1J7DCrB"
      }
    },
    {
      "cell_type": "code",
      "source": [
        "import pandas as pd\n",
        "import matplotlib.pyplot as plt\n",
        "\n",
        "\n",
        "df = pd.read_csv(\"/content/drive/MyDrive/ConceptofAIandTechnology/Datasets/Titanic-Dataset.csv\")\n",
        "\n",
        "df = df.dropna(subset=['Age'])\n",
        "\n",
        "\n",
        "df['AgeGroup'] = pd.qcut(df['Age'], q=5, labels=['Q1', 'Q2', 'Q3', 'Q4', 'Q5'])\n",
        "\n",
        "\n",
        "survival_rates = df.groupby(['Pclass', 'AgeGroup'])['Survived'].mean().unstack()\n",
        "\n",
        "print(\"Survival Rates by Age Group and Passenger Class:\")\n",
        "print(survival_rates)\n",
        "\n",
        "\n",
        "plt.figure(figsize=(12, 8))\n",
        "survival_rates.T.plot(kind='bar', figsize=(12, 6), cmap='viridis')\n",
        "\n",
        "plt.title('Survival Rates by Age Group and Passenger Class', fontsize=16)\n",
        "plt.xlabel('Age Group (Quantiles)', fontsize=12)\n",
        "plt.ylabel('Mean Survival Rate', fontsize=12)\n",
        "plt.legend(title='Passenger Class', fontsize=10)\n",
        "plt.xticks(rotation=0, fontsize=10)\n",
        "plt.yticks(fontsize=10)\n",
        "plt.show()\n"
      ],
      "metadata": {
        "colab": {
          "base_uri": "https://localhost:8080/",
          "height": 753
        },
        "id": "Gf77brqNDFBr",
        "outputId": "895961af-52f0-497d-a3cf-e8add07b18c0"
      },
      "execution_count": null,
      "outputs": [
        {
          "output_type": "stream",
          "name": "stdout",
          "text": [
            "Survival Rates by Age Group and Passenger Class:\n",
            "AgeGroup        Q1        Q2        Q3        Q4        Q5\n",
            "Pclass                                                    \n",
            "1         0.809524  0.761905  0.666667  0.777778  0.506667\n",
            "2         0.742857  0.400000  0.416667  0.461538  0.363636\n",
            "3         0.333333  0.197674  0.283582  0.166667  0.088235\n"
          ]
        },
        {
          "output_type": "stream",
          "name": "stderr",
          "text": [
            "<ipython-input-19-36d81d8b9eed>:13: FutureWarning: The default of observed=False is deprecated and will be changed to True in a future version of pandas. Pass observed=False to retain current behavior or observed=True to adopt the future default and silence this warning.\n",
            "  survival_rates = df.groupby(['Pclass', 'AgeGroup'])['Survived'].mean().unstack()\n"
          ]
        },
        {
          "output_type": "display_data",
          "data": {
            "text/plain": [
              "<Figure size 1200x800 with 0 Axes>"
            ]
          },
          "metadata": {}
        },
        {
          "output_type": "display_data",
          "data": {
            "text/plain": [
              "<Figure size 1200x600 with 1 Axes>"
            ],
            "image/png": "[encoded data removed]"
          },
          "metadata": {}
        }
      ]
    }
  ]
}